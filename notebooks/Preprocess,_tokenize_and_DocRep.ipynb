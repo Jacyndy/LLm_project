{
  "cells": [
    {
      "cell_type": "markdown",
      "metadata": {
        "id": "view-in-github",
        "colab_type": "text"
      },
      "source": [
        "<a href=\"https://colab.research.google.com/github/Jacyndy/LLm_project/blob/main/notebooks/Preprocess%2C_tokenize_and_DocRep.ipynb\" target=\"_parent\"><img src=\"https://colab.research.google.com/assets/colab-badge.svg\" alt=\"Open In Colab\"/></a>"
      ]
    },
    {
      "cell_type": "code",
      "execution_count": null,
      "metadata": {
        "colab": {
          "base_uri": "https://localhost:8080/"
        },
        "id": "3-QyrMQ67_PU",
        "outputId": "94afc10b-aee1-43ff-d919-a4f1b32c718a"
      },
      "outputs": [
        {
          "output_type": "stream",
          "name": "stdout",
          "text": [
            "Requirement already satisfied: datasets in /usr/local/lib/python3.11/dist-packages (3.3.2)\n",
            "Requirement already satisfied: filelock in /usr/local/lib/python3.11/dist-packages (from datasets) (3.17.0)\n",
            "Requirement already satisfied: numpy>=1.17 in /usr/local/lib/python3.11/dist-packages (from datasets) (1.26.4)\n",
            "Requirement already satisfied: pyarrow>=15.0.0 in /usr/local/lib/python3.11/dist-packages (from datasets) (18.1.0)\n",
            "Requirement already satisfied: dill<0.3.9,>=0.3.0 in /usr/local/lib/python3.11/dist-packages (from datasets) (0.3.8)\n",
            "Requirement already satisfied: pandas in /usr/local/lib/python3.11/dist-packages (from datasets) (2.2.2)\n",
            "Requirement already satisfied: requests>=2.32.2 in /usr/local/lib/python3.11/dist-packages (from datasets) (2.32.3)\n",
            "Requirement already satisfied: tqdm>=4.66.3 in /usr/local/lib/python3.11/dist-packages (from datasets) (4.67.1)\n",
            "Requirement already satisfied: xxhash in /usr/local/lib/python3.11/dist-packages (from datasets) (3.5.0)\n",
            "Requirement already satisfied: multiprocess<0.70.17 in /usr/local/lib/python3.11/dist-packages (from datasets) (0.70.16)\n",
            "Requirement already satisfied: fsspec<=2024.12.0,>=2023.1.0 in /usr/local/lib/python3.11/dist-packages (from fsspec[http]<=2024.12.0,>=2023.1.0->datasets) (2024.10.0)\n",
            "Requirement already satisfied: aiohttp in /usr/local/lib/python3.11/dist-packages (from datasets) (3.11.13)\n",
            "Requirement already satisfied: huggingface-hub>=0.24.0 in /usr/local/lib/python3.11/dist-packages (from datasets) (0.28.1)\n",
            "Requirement already satisfied: packaging in /usr/local/lib/python3.11/dist-packages (from datasets) (24.2)\n",
            "Requirement already satisfied: pyyaml>=5.1 in /usr/local/lib/python3.11/dist-packages (from datasets) (6.0.2)\n",
            "Requirement already satisfied: aiohappyeyeballs>=2.3.0 in /usr/local/lib/python3.11/dist-packages (from aiohttp->datasets) (2.5.0)\n",
            "Requirement already satisfied: aiosignal>=1.1.2 in /usr/local/lib/python3.11/dist-packages (from aiohttp->datasets) (1.3.2)\n",
            "Requirement already satisfied: attrs>=17.3.0 in /usr/local/lib/python3.11/dist-packages (from aiohttp->datasets) (25.1.0)\n",
            "Requirement already satisfied: frozenlist>=1.1.1 in /usr/local/lib/python3.11/dist-packages (from aiohttp->datasets) (1.5.0)\n",
            "Requirement already satisfied: multidict<7.0,>=4.5 in /usr/local/lib/python3.11/dist-packages (from aiohttp->datasets) (6.1.0)\n",
            "Requirement already satisfied: propcache>=0.2.0 in /usr/local/lib/python3.11/dist-packages (from aiohttp->datasets) (0.3.0)\n",
            "Requirement already satisfied: yarl<2.0,>=1.17.0 in /usr/local/lib/python3.11/dist-packages (from aiohttp->datasets) (1.18.3)\n",
            "Requirement already satisfied: typing-extensions>=3.7.4.3 in /usr/local/lib/python3.11/dist-packages (from huggingface-hub>=0.24.0->datasets) (4.12.2)\n",
            "Requirement already satisfied: charset-normalizer<4,>=2 in /usr/local/lib/python3.11/dist-packages (from requests>=2.32.2->datasets) (3.4.1)\n",
            "Requirement already satisfied: idna<4,>=2.5 in /usr/local/lib/python3.11/dist-packages (from requests>=2.32.2->datasets) (3.10)\n",
            "Requirement already satisfied: urllib3<3,>=1.21.1 in /usr/local/lib/python3.11/dist-packages (from requests>=2.32.2->datasets) (2.3.0)\n",
            "Requirement already satisfied: certifi>=2017.4.17 in /usr/local/lib/python3.11/dist-packages (from requests>=2.32.2->datasets) (2025.1.31)\n",
            "Requirement already satisfied: python-dateutil>=2.8.2 in /usr/local/lib/python3.11/dist-packages (from pandas->datasets) (2.8.2)\n",
            "Requirement already satisfied: pytz>=2020.1 in /usr/local/lib/python3.11/dist-packages (from pandas->datasets) (2025.1)\n",
            "Requirement already satisfied: tzdata>=2022.7 in /usr/local/lib/python3.11/dist-packages (from pandas->datasets) (2025.1)\n",
            "Requirement already satisfied: six>=1.5 in /usr/local/lib/python3.11/dist-packages (from python-dateutil>=2.8.2->pandas->datasets) (1.17.0)\n"
          ]
        }
      ],
      "source": [
        "!pip install datasets"
      ]
    },
    {
      "cell_type": "code",
      "execution_count": null,
      "metadata": {
        "id": "Ky7EF18iTL9o"
      },
      "outputs": [],
      "source": [
        "# import the necessary libraries\n",
        "import string\n",
        "import pandas as pd\n",
        "from datasets import load_dataset"
      ]
    },
    {
      "cell_type": "code",
      "execution_count": null,
      "metadata": {
        "colab": {
          "base_uri": "https://localhost:8080/"
        },
        "id": "62SWeCebTL9x",
        "outputId": "0a2cf21a-d82d-4b0a-f63b-79f3ad284b37"
      },
      "outputs": [
        {
          "output_type": "stream",
          "name": "stderr",
          "text": [
            "/usr/local/lib/python3.11/dist-packages/huggingface_hub/utils/_auth.py:94: UserWarning: \n",
            "The secret `HF_TOKEN` does not exist in your Colab secrets.\n",
            "To authenticate with the Hugging Face Hub, create a token in your settings tab (https://huggingface.co/settings/tokens), set it as secret in your Google Colab and restart your session.\n",
            "You will be able to reuse this secret in all of your notebooks.\n",
            "Please note that authentication is recommended but still optional to access public models or datasets.\n",
            "  warnings.warn(\n"
          ]
        },
        {
          "output_type": "execute_result",
          "data": {
            "text/plain": [
              "DatasetDict({\n",
              "    train: Dataset({\n",
              "        features: ['text', 'label'],\n",
              "        num_rows: 25000\n",
              "    })\n",
              "    test: Dataset({\n",
              "        features: ['text', 'label'],\n",
              "        num_rows: 25000\n",
              "    })\n",
              "    unsupervised: Dataset({\n",
              "        features: ['text', 'label'],\n",
              "        num_rows: 50000\n",
              "    })\n",
              "})"
            ]
          },
          "metadata": {},
          "execution_count": 3
        }
      ],
      "source": [
        "# load the daataset\n",
        "ds = load_dataset('imdb')\n",
        "ds"
      ]
    },
    {
      "cell_type": "code",
      "execution_count": null,
      "metadata": {
        "colab": {
          "base_uri": "https://localhost:8080/"
        },
        "id": "HKLQ6cyaTL9y",
        "outputId": "30b72d72-05f8-4d0e-c90a-a971dcfaa5fe"
      },
      "outputs": [
        {
          "output_type": "execute_result",
          "data": {
            "text/plain": [
              "Dataset({\n",
              "    features: ['text', 'label'],\n",
              "    num_rows: 25000\n",
              "})"
            ]
          },
          "metadata": {},
          "execution_count": 4
        }
      ],
      "source": [
        "# view the first part of the data\n",
        "ds['train']"
      ]
    },
    {
      "cell_type": "code",
      "execution_count": null,
      "metadata": {
        "id": "k8B5dGjHci86"
      },
      "outputs": [],
      "source": [
        "# select a small subset of the data\n",
        "small_train_dataset = ds[\"train\"].shuffle(seed=42).select(range(1000))\n",
        "small_eval_dataset = ds[\"test\"].shuffle(seed=42).select(range(1000))"
      ]
    },
    {
      "cell_type": "code",
      "execution_count": null,
      "metadata": {
        "id": "vilLv9Nn16ar"
      },
      "outputs": [],
      "source": [
        "# convert to a dataframe\n",
        "ds_train = pd.DataFrame(small_train_dataset)"
      ]
    },
    {
      "cell_type": "code",
      "execution_count": null,
      "metadata": {
        "colab": {
          "base_uri": "https://localhost:8080/",
          "height": 206
        },
        "id": "sKMPsoAZ2FMU",
        "outputId": "8d340fba-f987-4e65-b9eb-4481c16ebef3"
      },
      "outputs": [
        {
          "output_type": "execute_result",
          "data": {
            "text/plain": [
              "                                                text  label\n",
              "0  There is no relation at all between Fortier an...      1\n",
              "1  This movie is a great. The plot is very true t...      1\n",
              "2  George P. Cosmatos' \"Rambo: First Blood Part I...      0\n",
              "3  In the process of trying to establish the audi...      1\n",
              "4  Yeh, I know -- you're quivering with excitemen...      0"
            ],
            "text/html": [
              "\n",
              "  <div id=\"df-b2d03cc4-27d8-428c-ba2c-da51385ca985\" class=\"colab-df-container\">\n",
              "    <div>\n",
              "<style scoped>\n",
              "    .dataframe tbody tr th:only-of-type {\n",
              "        vertical-align: middle;\n",
              "    }\n",
              "\n",
              "    .dataframe tbody tr th {\n",
              "        vertical-align: top;\n",
              "    }\n",
              "\n",
              "    .dataframe thead th {\n",
              "        text-align: right;\n",
              "    }\n",
              "</style>\n",
              "<table border=\"1\" class=\"dataframe\">\n",
              "  <thead>\n",
              "    <tr style=\"text-align: right;\">\n",
              "      <th></th>\n",
              "      <th>text</th>\n",
              "      <th>label</th>\n",
              "    </tr>\n",
              "  </thead>\n",
              "  <tbody>\n",
              "    <tr>\n",
              "      <th>0</th>\n",
              "      <td>There is no relation at all between Fortier an...</td>\n",
              "      <td>1</td>\n",
              "    </tr>\n",
              "    <tr>\n",
              "      <th>1</th>\n",
              "      <td>This movie is a great. The plot is very true t...</td>\n",
              "      <td>1</td>\n",
              "    </tr>\n",
              "    <tr>\n",
              "      <th>2</th>\n",
              "      <td>George P. Cosmatos' \"Rambo: First Blood Part I...</td>\n",
              "      <td>0</td>\n",
              "    </tr>\n",
              "    <tr>\n",
              "      <th>3</th>\n",
              "      <td>In the process of trying to establish the audi...</td>\n",
              "      <td>1</td>\n",
              "    </tr>\n",
              "    <tr>\n",
              "      <th>4</th>\n",
              "      <td>Yeh, I know -- you're quivering with excitemen...</td>\n",
              "      <td>0</td>\n",
              "    </tr>\n",
              "  </tbody>\n",
              "</table>\n",
              "</div>\n",
              "    <div class=\"colab-df-buttons\">\n",
              "\n",
              "  <div class=\"colab-df-container\">\n",
              "    <button class=\"colab-df-convert\" onclick=\"convertToInteractive('df-b2d03cc4-27d8-428c-ba2c-da51385ca985')\"\n",
              "            title=\"Convert this dataframe to an interactive table.\"\n",
              "            style=\"display:none;\">\n",
              "\n",
              "  <svg xmlns=\"http://www.w3.org/2000/svg\" height=\"24px\" viewBox=\"0 -960 960 960\">\n",
              "    <path d=\"M120-120v-720h720v720H120Zm60-500h600v-160H180v160Zm220 220h160v-160H400v160Zm0 220h160v-160H400v160ZM180-400h160v-160H180v160Zm440 0h160v-160H620v160ZM180-180h160v-160H180v160Zm440 0h160v-160H620v160Z\"/>\n",
              "  </svg>\n",
              "    </button>\n",
              "\n",
              "  <style>\n",
              "    .colab-df-container {\n",
              "      display:flex;\n",
              "      gap: 12px;\n",
              "    }\n",
              "\n",
              "    .colab-df-convert {\n",
              "      background-color: #E8F0FE;\n",
              "      border: none;\n",
              "      border-radius: 50%;\n",
              "      cursor: pointer;\n",
              "      display: none;\n",
              "      fill: #1967D2;\n",
              "      height: 32px;\n",
              "      padding: 0 0 0 0;\n",
              "      width: 32px;\n",
              "    }\n",
              "\n",
              "    .colab-df-convert:hover {\n",
              "      background-color: #E2EBFA;\n",
              "      box-shadow: 0px 1px 2px rgba(60, 64, 67, 0.3), 0px 1px 3px 1px rgba(60, 64, 67, 0.15);\n",
              "      fill: #174EA6;\n",
              "    }\n",
              "\n",
              "    .colab-df-buttons div {\n",
              "      margin-bottom: 4px;\n",
              "    }\n",
              "\n",
              "    [theme=dark] .colab-df-convert {\n",
              "      background-color: #3B4455;\n",
              "      fill: #D2E3FC;\n",
              "    }\n",
              "\n",
              "    [theme=dark] .colab-df-convert:hover {\n",
              "      background-color: #434B5C;\n",
              "      box-shadow: 0px 1px 3px 1px rgba(0, 0, 0, 0.15);\n",
              "      filter: drop-shadow(0px 1px 2px rgba(0, 0, 0, 0.3));\n",
              "      fill: #FFFFFF;\n",
              "    }\n",
              "  </style>\n",
              "\n",
              "    <script>\n",
              "      const buttonEl =\n",
              "        document.querySelector('#df-b2d03cc4-27d8-428c-ba2c-da51385ca985 button.colab-df-convert');\n",
              "      buttonEl.style.display =\n",
              "        google.colab.kernel.accessAllowed ? 'block' : 'none';\n",
              "\n",
              "      async function convertToInteractive(key) {\n",
              "        const element = document.querySelector('#df-b2d03cc4-27d8-428c-ba2c-da51385ca985');\n",
              "        const dataTable =\n",
              "          await google.colab.kernel.invokeFunction('convertToInteractive',\n",
              "                                                    [key], {});\n",
              "        if (!dataTable) return;\n",
              "\n",
              "        const docLinkHtml = 'Like what you see? Visit the ' +\n",
              "          '<a target=\"_blank\" href=https://colab.research.google.com/notebooks/data_table.ipynb>data table notebook</a>'\n",
              "          + ' to learn more about interactive tables.';\n",
              "        element.innerHTML = '';\n",
              "        dataTable['output_type'] = 'display_data';\n",
              "        await google.colab.output.renderOutput(dataTable, element);\n",
              "        const docLink = document.createElement('div');\n",
              "        docLink.innerHTML = docLinkHtml;\n",
              "        element.appendChild(docLink);\n",
              "      }\n",
              "    </script>\n",
              "  </div>\n",
              "\n",
              "\n",
              "<div id=\"df-902b504f-80d4-4da9-8e88-1d0f4a232c81\">\n",
              "  <button class=\"colab-df-quickchart\" onclick=\"quickchart('df-902b504f-80d4-4da9-8e88-1d0f4a232c81')\"\n",
              "            title=\"Suggest charts\"\n",
              "            style=\"display:none;\">\n",
              "\n",
              "<svg xmlns=\"http://www.w3.org/2000/svg\" height=\"24px\"viewBox=\"0 0 24 24\"\n",
              "     width=\"24px\">\n",
              "    <g>\n",
              "        <path d=\"M19 3H5c-1.1 0-2 .9-2 2v14c0 1.1.9 2 2 2h14c1.1 0 2-.9 2-2V5c0-1.1-.9-2-2-2zM9 17H7v-7h2v7zm4 0h-2V7h2v10zm4 0h-2v-4h2v4z\"/>\n",
              "    </g>\n",
              "</svg>\n",
              "  </button>\n",
              "\n",
              "<style>\n",
              "  .colab-df-quickchart {\n",
              "      --bg-color: #E8F0FE;\n",
              "      --fill-color: #1967D2;\n",
              "      --hover-bg-color: #E2EBFA;\n",
              "      --hover-fill-color: #174EA6;\n",
              "      --disabled-fill-color: #AAA;\n",
              "      --disabled-bg-color: #DDD;\n",
              "  }\n",
              "\n",
              "  [theme=dark] .colab-df-quickchart {\n",
              "      --bg-color: #3B4455;\n",
              "      --fill-color: #D2E3FC;\n",
              "      --hover-bg-color: #434B5C;\n",
              "      --hover-fill-color: #FFFFFF;\n",
              "      --disabled-bg-color: #3B4455;\n",
              "      --disabled-fill-color: #666;\n",
              "  }\n",
              "\n",
              "  .colab-df-quickchart {\n",
              "    background-color: var(--bg-color);\n",
              "    border: none;\n",
              "    border-radius: 50%;\n",
              "    cursor: pointer;\n",
              "    display: none;\n",
              "    fill: var(--fill-color);\n",
              "    height: 32px;\n",
              "    padding: 0;\n",
              "    width: 32px;\n",
              "  }\n",
              "\n",
              "  .colab-df-quickchart:hover {\n",
              "    background-color: var(--hover-bg-color);\n",
              "    box-shadow: 0 1px 2px rgba(60, 64, 67, 0.3), 0 1px 3px 1px rgba(60, 64, 67, 0.15);\n",
              "    fill: var(--button-hover-fill-color);\n",
              "  }\n",
              "\n",
              "  .colab-df-quickchart-complete:disabled,\n",
              "  .colab-df-quickchart-complete:disabled:hover {\n",
              "    background-color: var(--disabled-bg-color);\n",
              "    fill: var(--disabled-fill-color);\n",
              "    box-shadow: none;\n",
              "  }\n",
              "\n",
              "  .colab-df-spinner {\n",
              "    border: 2px solid var(--fill-color);\n",
              "    border-color: transparent;\n",
              "    border-bottom-color: var(--fill-color);\n",
              "    animation:\n",
              "      spin 1s steps(1) infinite;\n",
              "  }\n",
              "\n",
              "  @keyframes spin {\n",
              "    0% {\n",
              "      border-color: transparent;\n",
              "      border-bottom-color: var(--fill-color);\n",
              "      border-left-color: var(--fill-color);\n",
              "    }\n",
              "    20% {\n",
              "      border-color: transparent;\n",
              "      border-left-color: var(--fill-color);\n",
              "      border-top-color: var(--fill-color);\n",
              "    }\n",
              "    30% {\n",
              "      border-color: transparent;\n",
              "      border-left-color: var(--fill-color);\n",
              "      border-top-color: var(--fill-color);\n",
              "      border-right-color: var(--fill-color);\n",
              "    }\n",
              "    40% {\n",
              "      border-color: transparent;\n",
              "      border-right-color: var(--fill-color);\n",
              "      border-top-color: var(--fill-color);\n",
              "    }\n",
              "    60% {\n",
              "      border-color: transparent;\n",
              "      border-right-color: var(--fill-color);\n",
              "    }\n",
              "    80% {\n",
              "      border-color: transparent;\n",
              "      border-right-color: var(--fill-color);\n",
              "      border-bottom-color: var(--fill-color);\n",
              "    }\n",
              "    90% {\n",
              "      border-color: transparent;\n",
              "      border-bottom-color: var(--fill-color);\n",
              "    }\n",
              "  }\n",
              "</style>\n",
              "\n",
              "  <script>\n",
              "    async function quickchart(key) {\n",
              "      const quickchartButtonEl =\n",
              "        document.querySelector('#' + key + ' button');\n",
              "      quickchartButtonEl.disabled = true;  // To prevent multiple clicks.\n",
              "      quickchartButtonEl.classList.add('colab-df-spinner');\n",
              "      try {\n",
              "        const charts = await google.colab.kernel.invokeFunction(\n",
              "            'suggestCharts', [key], {});\n",
              "      } catch (error) {\n",
              "        console.error('Error during call to suggestCharts:', error);\n",
              "      }\n",
              "      quickchartButtonEl.classList.remove('colab-df-spinner');\n",
              "      quickchartButtonEl.classList.add('colab-df-quickchart-complete');\n",
              "    }\n",
              "    (() => {\n",
              "      let quickchartButtonEl =\n",
              "        document.querySelector('#df-902b504f-80d4-4da9-8e88-1d0f4a232c81 button');\n",
              "      quickchartButtonEl.style.display =\n",
              "        google.colab.kernel.accessAllowed ? 'block' : 'none';\n",
              "    })();\n",
              "  </script>\n",
              "</div>\n",
              "\n",
              "    </div>\n",
              "  </div>\n"
            ],
            "application/vnd.google.colaboratory.intrinsic+json": {
              "type": "dataframe",
              "variable_name": "ds_train",
              "summary": "{\n  \"name\": \"ds_train\",\n  \"rows\": 1000,\n  \"fields\": [\n    {\n      \"column\": \"text\",\n      \"properties\": {\n        \"dtype\": \"string\",\n        \"num_unique_values\": 1000,\n        \"samples\": [\n          \"Hitokiri (which translates roughly as \\\"assassination\\\"), a/k/a \\\"Tenchu\\\" which translates roughly as \\\"divine punishment\\\") showcases Hideo Gosha at the top of his form. Do NOT miss this one, or Gosha's other classic, Goyokin! Hitokiri is not only one of Gosha's best films, it's one of the best \\\"samurai/chambara\\\" films ever made, and perhaps one of the best Japanese films ever exported.<br /><br />Be warned, all of the intricate plot details in Hitokiri can be a little hard to follow for those unfamiliar with 19th century Japanese history. Even so, the underlying human drama is obvious and open to all viewers. As per the norm for Gosha, Hitokiri provides yet another variation on his traditional theme of \\\"loyalty to one's lord\\\" vs. \\\"doing the right thing\\\". However, Gosha develops his favorite theme with such sophistication, that it's really _the_ movie to see (along with Goyokin, of course).<br /><br />I suppose it breaks down like this: If you want a simpler, more action-oriented tale, you might want to see Goyokin. However, if you want a more thoughtful, multilayered (albeit grim) drama, see this one.<br /><br />(OK, OK, essentially, the historical backdrop is a massive power grap between many different samurai clans who are either (1) working to reform, yet retain, the Tokugawa Shogunate, and (2) those who are trying to install the Emperor Meiji as the supreme ruler of Japan. Of course, those clans working \\\"for\\\" Emperor Meiji were often less interested in \\\"reforming\\\" Japan than in ensuring their own clan more power in the \\\"new world order\\\". Ironically, the entire feudal system was officially abolished as one of the first reforms of the Meiji government. It's ironic twists like this -- Gosha's big on irony -- that make the entire plot all the more bittersweet.)<br /><br />What distinguishes \\\"Hitokiri\\\" from Gosha's other movies is Gosha's mature sense of cinematography. Every shot is thoughtfully composed, and (much like Kubrick's Barry Lyndon) each frame of the movie could hold its own as a still composition. Of course, this is typical Gosha. Hitokiri really stands out with stunning backdrops, including(as with Goyokin) many riveting seascapes. Just watch the opening sequence, and you're hooked! Make no mistake, this is no English period piece: Hitokiri is extremely violent (don't say you weren't warned).<br /><br />What else, other than cool camera work, makes Hitokiri stand out? The performances seem (to me) a bit more subtle in this one. Katsu Shintaro (of Zatoichi/Hanzo the Razor fame) turns in a star performance as the conflicted protagonist/antihero, Okada Izo. Katsu manages to instill humanity to a character that seems almost more wild animal than villain. Throughout the movie, you're never quite sure if you're engaged or revolted by Okada's character. At the same time, Katsu's portrayal of Okada's ravenous hunger for respect, and his later pathetic attempts at redemption, seem so human that you can't help but feel empathy/sympathy. Of course, after seeing Nakadai Tatsuya play the tortured hero in \\\"Goyokin\\\", it's great to see him play such a ruthless villain in \\\"Hitokiri\\\". He's just perfect, there's nothing more to say!<br /><br />As a final note, perhaps more interesting to buffs than to casual fans, don't miss the last screen appearance of Mishima Yukio (yes, the closeted gay right-wing ultranationalist novelist who committed suicide by seppuku before the crowd of jeering Japanese military personnel he \\\"kidnapped\\\" in 1970, and had a movie on his life and work made by Paul Schrader), who actually does a pretty solid job of portraying the honorable (for an assassin) Shinbei Tanaka.\",\n          \"This one grew on me. I love the R.D. Burman music and in spite of the cruder elements of the story I found much to be moved by as I kept re-watching the movie. The brother-sister plot line is powerful, I thought; there's also more probably obligatory stuff, like bar fights, a loony crime story, etc. that are just distracting. (Though not unfunny from a certain point of view.) Also the English translation is definitely by someone for whom it was a bit of a stretch, and as loony as it is I am grateful to him for doing it.<br /><br />Like many of the Bollywood movies I've seen, this one is melodramatic and opera-like, including here notably a song sung first by a little boy to cheer up his abused and unhappy sister, and then the same song sung 12 or so years later by the man who has travelled to Kathmandu seeking to re-connect with this girl, grown up and troubled (she had been told her brother and mother were dead), numbing her pain with drugs.<br /><br />A super thing about this 1971 movie is that it is about the hippie movement, which brought hordes of seekers to India, from an Indian point of view, that sees them as people driven to India by a spiritual hunger aroused by the failings of their own societies, but nonetheless, in India, living only for the pleasures of the moment. The hippie singing-dancing-drugging scenes are truly wonderful, and accurate in their tone (I'm old enough to remember), and I feel pretty sure that the masses of young white zoned-out kids are actual hippie extras, as I remember hearing about kids on the caravan to the East getting this kind of work in Bollywood.<br /><br />(It is not about the actual Hare Krishna movement, though the movie hippies sing a Krishna/Rama chant, as do a group of actual Indian devotees, unrelated to the hippies, in the opening scene of the movie.)<br /><br />~Virginia\",\n          \"Nacho Vigalondo is very famous in Spain. He is a kind of bad showman who can make you feel sick... Very embarrassing. Nacho had made some commercials in TV, I remember one in which Nacho was looking for Paul Mc Carney around Madrid (the commercial was about a Mc Carney CD collection). <br /><br />This little movie is like a Nacho's commercial: bad storyline, bad directing, and awful performances. I can't believe that a disgusting movie like this was in The Kodak Theater. Poor Oscar...<br /><br />Nacho could made this movie because of his wife, the producer of this 7:35, a woman very well connected with Spanish TV business men.\"\n        ],\n        \"semantic_type\": \"\",\n        \"description\": \"\"\n      }\n    },\n    {\n      \"column\": \"label\",\n      \"properties\": {\n        \"dtype\": \"number\",\n        \"std\": 0,\n        \"min\": 0,\n        \"max\": 1,\n        \"num_unique_values\": 2,\n        \"samples\": [\n          0,\n          1\n        ],\n        \"semantic_type\": \"\",\n        \"description\": \"\"\n      }\n    }\n  ]\n}"
            }
          },
          "metadata": {},
          "execution_count": 7
        }
      ],
      "source": [
        "# view rhe first few rows\n",
        "ds_train.head()"
      ]
    },
    {
      "cell_type": "code",
      "execution_count": null,
      "metadata": {
        "id": "0M79kcXL-HS-"
      },
      "outputs": [],
      "source": [
        "ds_test = pd.DataFrame(small_eval_dataset)"
      ]
    },
    {
      "cell_type": "markdown",
      "metadata": {
        "id": "KQr9whPQTL9y"
      },
      "source": [
        "Grab a single review."
      ]
    },
    {
      "cell_type": "code",
      "execution_count": null,
      "metadata": {
        "colab": {
          "base_uri": "https://localhost:8080/"
        },
        "id": "9QQoWNttTL9y",
        "outputId": "19ce74c8-94a1-41bd-d286-f6fdd5a91b61"
      },
      "outputs": [
        {
          "output_type": "stream",
          "name": "stdout",
          "text": [
            "There is no relation at all between Fortier and Profiler but the fact that both are police series about violent crimes. Profiler looks crispy, Fortier looks classic. Profiler plots are quite simple. Fortier's plot are far more complicated... Fortier looks more like Prime Suspect, if we have to spot similarities... The main character is weak and weirdo, but have \"clairvoyance\". People like to compare, to judge, to evaluate. How about just enjoying? Funny thing too, people writing Fortier looks American but, on the other hand, arguing they prefer American series (!!!). Maybe it's the language, or the spirit, but I think this series is more English than American. By the way, the actors are really good and funny. The acting is not superficial at all...\n"
          ]
        }
      ],
      "source": [
        "text = ds_train['text'][0]\n",
        "print(text)"
      ]
    },
    {
      "cell_type": "markdown",
      "metadata": {
        "id": "Djnwd44lTL9t"
      },
      "source": [
        "## Removing punctuation\n",
        "Review the available punctuation characters."
      ]
    },
    {
      "cell_type": "code",
      "execution_count": null,
      "metadata": {
        "colab": {
          "base_uri": "https://localhost:8080/"
        },
        "id": "AlDLd6Y6TL9v",
        "outputId": "69e2593b-a48b-4be5-b25a-be6a93862ac2"
      },
      "outputs": [
        {
          "output_type": "stream",
          "name": "stdout",
          "text": [
            "!\"#$%&'()*+,-./:;<=>?@[\\]^_`{|}~\n"
          ]
        }
      ],
      "source": [
        "print(string.punctuation)"
      ]
    },
    {
      "cell_type": "markdown",
      "metadata": {
        "id": "XnIB2PuDTL9w"
      },
      "source": [
        "Create a function to remove punctuation."
      ]
    },
    {
      "cell_type": "code",
      "execution_count": null,
      "metadata": {
        "id": "dk0YYywvTL9x"
      },
      "outputs": [],
      "source": [
        "def remove_punctuation(text):\n",
        "    text = \"\".join([char for char in text if char not in string.punctuation])\n",
        "\n",
        "    return text"
      ]
    },
    {
      "cell_type": "markdown",
      "metadata": {
        "id": "YTllxrhnTL9x"
      },
      "source": [
        "Trying the function out on a single piece of text."
      ]
    },
    {
      "cell_type": "code",
      "execution_count": null,
      "metadata": {
        "colab": {
          "base_uri": "https://localhost:8080/"
        },
        "id": "O5Z0DieUTL9z",
        "outputId": "c3f80673-371c-409f-f8f5-d07b410658b9"
      },
      "outputs": [
        {
          "output_type": "stream",
          "name": "stdout",
          "text": [
            "There is no relation at all between Fortier and Profiler but the fact that both are police series about violent crimes Profiler looks crispy Fortier looks classic Profiler plots are quite simple Fortiers plot are far more complicated Fortier looks more like Prime Suspect if we have to spot similarities The main character is weak and weirdo but have clairvoyance People like to compare to judge to evaluate How about just enjoying Funny thing too people writing Fortier looks American but on the other hand arguing they prefer American series  Maybe its the language or the spirit but I think this series is more English than American By the way the actors are really good and funny The acting is not superficial at all\n"
          ]
        }
      ],
      "source": [
        "text_no_punct = remove_punctuation(text)\n",
        "print(text_no_punct)"
      ]
    },
    {
      "cell_type": "markdown",
      "metadata": {
        "id": "EqmpCPVmTL9z"
      },
      "source": [
        "Apply function to remove punctuation."
      ]
    },
    {
      "cell_type": "code",
      "execution_count": null,
      "metadata": {
        "id": "Dohi5bbUTL9z"
      },
      "outputs": [],
      "source": [
        "# for the train data\n",
        "ds_train['text_no_punct'] = ds_train['text'].apply(lambda x: remove_punctuation(x))"
      ]
    },
    {
      "cell_type": "code",
      "execution_count": null,
      "metadata": {
        "colab": {
          "base_uri": "https://localhost:8080/",
          "height": 206
        },
        "id": "c9SQ1JU1Dbql",
        "outputId": "eb62ba60-375e-46c4-a2eb-776cc0ebbc10"
      },
      "outputs": [
        {
          "output_type": "execute_result",
          "data": {
            "text/plain": [
              "                                                text  label  \\\n",
              "0  There is no relation at all between Fortier an...      1   \n",
              "1  This movie is a great. The plot is very true t...      1   \n",
              "2  George P. Cosmatos' \"Rambo: First Blood Part I...      0   \n",
              "3  In the process of trying to establish the audi...      1   \n",
              "4  Yeh, I know -- you're quivering with excitemen...      0   \n",
              "\n",
              "                                       text_no_punct  \n",
              "0  There is no relation at all between Fortier an...  \n",
              "1  This movie is a great The plot is very true to...  \n",
              "2  George P Cosmatos Rambo First Blood Part II is...  \n",
              "3  In the process of trying to establish the audi...  \n",
              "4  Yeh I know  youre quivering with excitement We...  "
            ],
            "text/html": [
              "\n",
              "  <div id=\"df-1890738c-69d4-4bca-9434-21e078e081e9\" class=\"colab-df-container\">\n",
              "    <div>\n",
              "<style scoped>\n",
              "    .dataframe tbody tr th:only-of-type {\n",
              "        vertical-align: middle;\n",
              "    }\n",
              "\n",
              "    .dataframe tbody tr th {\n",
              "        vertical-align: top;\n",
              "    }\n",
              "\n",
              "    .dataframe thead th {\n",
              "        text-align: right;\n",
              "    }\n",
              "</style>\n",
              "<table border=\"1\" class=\"dataframe\">\n",
              "  <thead>\n",
              "    <tr style=\"text-align: right;\">\n",
              "      <th></th>\n",
              "      <th>text</th>\n",
              "      <th>label</th>\n",
              "      <th>text_no_punct</th>\n",
              "    </tr>\n",
              "  </thead>\n",
              "  <tbody>\n",
              "    <tr>\n",
              "      <th>0</th>\n",
              "      <td>There is no relation at all between Fortier an...</td>\n",
              "      <td>1</td>\n",
              "      <td>There is no relation at all between Fortier an...</td>\n",
              "    </tr>\n",
              "    <tr>\n",
              "      <th>1</th>\n",
              "      <td>This movie is a great. The plot is very true t...</td>\n",
              "      <td>1</td>\n",
              "      <td>This movie is a great The plot is very true to...</td>\n",
              "    </tr>\n",
              "    <tr>\n",
              "      <th>2</th>\n",
              "      <td>George P. Cosmatos' \"Rambo: First Blood Part I...</td>\n",
              "      <td>0</td>\n",
              "      <td>George P Cosmatos Rambo First Blood Part II is...</td>\n",
              "    </tr>\n",
              "    <tr>\n",
              "      <th>3</th>\n",
              "      <td>In the process of trying to establish the audi...</td>\n",
              "      <td>1</td>\n",
              "      <td>In the process of trying to establish the audi...</td>\n",
              "    </tr>\n",
              "    <tr>\n",
              "      <th>4</th>\n",
              "      <td>Yeh, I know -- you're quivering with excitemen...</td>\n",
              "      <td>0</td>\n",
              "      <td>Yeh I know  youre quivering with excitement We...</td>\n",
              "    </tr>\n",
              "  </tbody>\n",
              "</table>\n",
              "</div>\n",
              "    <div class=\"colab-df-buttons\">\n",
              "\n",
              "  <div class=\"colab-df-container\">\n",
              "    <button class=\"colab-df-convert\" onclick=\"convertToInteractive('df-1890738c-69d4-4bca-9434-21e078e081e9')\"\n",
              "            title=\"Convert this dataframe to an interactive table.\"\n",
              "            style=\"display:none;\">\n",
              "\n",
              "  <svg xmlns=\"http://www.w3.org/2000/svg\" height=\"24px\" viewBox=\"0 -960 960 960\">\n",
              "    <path d=\"M120-120v-720h720v720H120Zm60-500h600v-160H180v160Zm220 220h160v-160H400v160Zm0 220h160v-160H400v160ZM180-400h160v-160H180v160Zm440 0h160v-160H620v160ZM180-180h160v-160H180v160Zm440 0h160v-160H620v160Z\"/>\n",
              "  </svg>\n",
              "    </button>\n",
              "\n",
              "  <style>\n",
              "    .colab-df-container {\n",
              "      display:flex;\n",
              "      gap: 12px;\n",
              "    }\n",
              "\n",
              "    .colab-df-convert {\n",
              "      background-color: #E8F0FE;\n",
              "      border: none;\n",
              "      border-radius: 50%;\n",
              "      cursor: pointer;\n",
              "      display: none;\n",
              "      fill: #1967D2;\n",
              "      height: 32px;\n",
              "      padding: 0 0 0 0;\n",
              "      width: 32px;\n",
              "    }\n",
              "\n",
              "    .colab-df-convert:hover {\n",
              "      background-color: #E2EBFA;\n",
              "      box-shadow: 0px 1px 2px rgba(60, 64, 67, 0.3), 0px 1px 3px 1px rgba(60, 64, 67, 0.15);\n",
              "      fill: #174EA6;\n",
              "    }\n",
              "\n",
              "    .colab-df-buttons div {\n",
              "      margin-bottom: 4px;\n",
              "    }\n",
              "\n",
              "    [theme=dark] .colab-df-convert {\n",
              "      background-color: #3B4455;\n",
              "      fill: #D2E3FC;\n",
              "    }\n",
              "\n",
              "    [theme=dark] .colab-df-convert:hover {\n",
              "      background-color: #434B5C;\n",
              "      box-shadow: 0px 1px 3px 1px rgba(0, 0, 0, 0.15);\n",
              "      filter: drop-shadow(0px 1px 2px rgba(0, 0, 0, 0.3));\n",
              "      fill: #FFFFFF;\n",
              "    }\n",
              "  </style>\n",
              "\n",
              "    <script>\n",
              "      const buttonEl =\n",
              "        document.querySelector('#df-1890738c-69d4-4bca-9434-21e078e081e9 button.colab-df-convert');\n",
              "      buttonEl.style.display =\n",
              "        google.colab.kernel.accessAllowed ? 'block' : 'none';\n",
              "\n",
              "      async function convertToInteractive(key) {\n",
              "        const element = document.querySelector('#df-1890738c-69d4-4bca-9434-21e078e081e9');\n",
              "        const dataTable =\n",
              "          await google.colab.kernel.invokeFunction('convertToInteractive',\n",
              "                                                    [key], {});\n",
              "        if (!dataTable) return;\n",
              "\n",
              "        const docLinkHtml = 'Like what you see? Visit the ' +\n",
              "          '<a target=\"_blank\" href=https://colab.research.google.com/notebooks/data_table.ipynb>data table notebook</a>'\n",
              "          + ' to learn more about interactive tables.';\n",
              "        element.innerHTML = '';\n",
              "        dataTable['output_type'] = 'display_data';\n",
              "        await google.colab.output.renderOutput(dataTable, element);\n",
              "        const docLink = document.createElement('div');\n",
              "        docLink.innerHTML = docLinkHtml;\n",
              "        element.appendChild(docLink);\n",
              "      }\n",
              "    </script>\n",
              "  </div>\n",
              "\n",
              "\n",
              "<div id=\"df-50684838-b1b4-4d78-830b-d3dba85bed22\">\n",
              "  <button class=\"colab-df-quickchart\" onclick=\"quickchart('df-50684838-b1b4-4d78-830b-d3dba85bed22')\"\n",
              "            title=\"Suggest charts\"\n",
              "            style=\"display:none;\">\n",
              "\n",
              "<svg xmlns=\"http://www.w3.org/2000/svg\" height=\"24px\"viewBox=\"0 0 24 24\"\n",
              "     width=\"24px\">\n",
              "    <g>\n",
              "        <path d=\"M19 3H5c-1.1 0-2 .9-2 2v14c0 1.1.9 2 2 2h14c1.1 0 2-.9 2-2V5c0-1.1-.9-2-2-2zM9 17H7v-7h2v7zm4 0h-2V7h2v10zm4 0h-2v-4h2v4z\"/>\n",
              "    </g>\n",
              "</svg>\n",
              "  </button>\n",
              "\n",
              "<style>\n",
              "  .colab-df-quickchart {\n",
              "      --bg-color: #E8F0FE;\n",
              "      --fill-color: #1967D2;\n",
              "      --hover-bg-color: #E2EBFA;\n",
              "      --hover-fill-color: #174EA6;\n",
              "      --disabled-fill-color: #AAA;\n",
              "      --disabled-bg-color: #DDD;\n",
              "  }\n",
              "\n",
              "  [theme=dark] .colab-df-quickchart {\n",
              "      --bg-color: #3B4455;\n",
              "      --fill-color: #D2E3FC;\n",
              "      --hover-bg-color: #434B5C;\n",
              "      --hover-fill-color: #FFFFFF;\n",
              "      --disabled-bg-color: #3B4455;\n",
              "      --disabled-fill-color: #666;\n",
              "  }\n",
              "\n",
              "  .colab-df-quickchart {\n",
              "    background-color: var(--bg-color);\n",
              "    border: none;\n",
              "    border-radius: 50%;\n",
              "    cursor: pointer;\n",
              "    display: none;\n",
              "    fill: var(--fill-color);\n",
              "    height: 32px;\n",
              "    padding: 0;\n",
              "    width: 32px;\n",
              "  }\n",
              "\n",
              "  .colab-df-quickchart:hover {\n",
              "    background-color: var(--hover-bg-color);\n",
              "    box-shadow: 0 1px 2px rgba(60, 64, 67, 0.3), 0 1px 3px 1px rgba(60, 64, 67, 0.15);\n",
              "    fill: var(--button-hover-fill-color);\n",
              "  }\n",
              "\n",
              "  .colab-df-quickchart-complete:disabled,\n",
              "  .colab-df-quickchart-complete:disabled:hover {\n",
              "    background-color: var(--disabled-bg-color);\n",
              "    fill: var(--disabled-fill-color);\n",
              "    box-shadow: none;\n",
              "  }\n",
              "\n",
              "  .colab-df-spinner {\n",
              "    border: 2px solid var(--fill-color);\n",
              "    border-color: transparent;\n",
              "    border-bottom-color: var(--fill-color);\n",
              "    animation:\n",
              "      spin 1s steps(1) infinite;\n",
              "  }\n",
              "\n",
              "  @keyframes spin {\n",
              "    0% {\n",
              "      border-color: transparent;\n",
              "      border-bottom-color: var(--fill-color);\n",
              "      border-left-color: var(--fill-color);\n",
              "    }\n",
              "    20% {\n",
              "      border-color: transparent;\n",
              "      border-left-color: var(--fill-color);\n",
              "      border-top-color: var(--fill-color);\n",
              "    }\n",
              "    30% {\n",
              "      border-color: transparent;\n",
              "      border-left-color: var(--fill-color);\n",
              "      border-top-color: var(--fill-color);\n",
              "      border-right-color: var(--fill-color);\n",
              "    }\n",
              "    40% {\n",
              "      border-color: transparent;\n",
              "      border-right-color: var(--fill-color);\n",
              "      border-top-color: var(--fill-color);\n",
              "    }\n",
              "    60% {\n",
              "      border-color: transparent;\n",
              "      border-right-color: var(--fill-color);\n",
              "    }\n",
              "    80% {\n",
              "      border-color: transparent;\n",
              "      border-right-color: var(--fill-color);\n",
              "      border-bottom-color: var(--fill-color);\n",
              "    }\n",
              "    90% {\n",
              "      border-color: transparent;\n",
              "      border-bottom-color: var(--fill-color);\n",
              "    }\n",
              "  }\n",
              "</style>\n",
              "\n",
              "  <script>\n",
              "    async function quickchart(key) {\n",
              "      const quickchartButtonEl =\n",
              "        document.querySelector('#' + key + ' button');\n",
              "      quickchartButtonEl.disabled = true;  // To prevent multiple clicks.\n",
              "      quickchartButtonEl.classList.add('colab-df-spinner');\n",
              "      try {\n",
              "        const charts = await google.colab.kernel.invokeFunction(\n",
              "            'suggestCharts', [key], {});\n",
              "      } catch (error) {\n",
              "        console.error('Error during call to suggestCharts:', error);\n",
              "      }\n",
              "      quickchartButtonEl.classList.remove('colab-df-spinner');\n",
              "      quickchartButtonEl.classList.add('colab-df-quickchart-complete');\n",
              "    }\n",
              "    (() => {\n",
              "      let quickchartButtonEl =\n",
              "        document.querySelector('#df-50684838-b1b4-4d78-830b-d3dba85bed22 button');\n",
              "      quickchartButtonEl.style.display =\n",
              "        google.colab.kernel.accessAllowed ? 'block' : 'none';\n",
              "    })();\n",
              "  </script>\n",
              "</div>\n",
              "\n",
              "    </div>\n",
              "  </div>\n"
            ],
            "application/vnd.google.colaboratory.intrinsic+json": {
              "type": "dataframe",
              "variable_name": "ds_train",
              "summary": "{\n  \"name\": \"ds_train\",\n  \"rows\": 1000,\n  \"fields\": [\n    {\n      \"column\": \"text\",\n      \"properties\": {\n        \"dtype\": \"string\",\n        \"num_unique_values\": 1000,\n        \"samples\": [\n          \"Hitokiri (which translates roughly as \\\"assassination\\\"), a/k/a \\\"Tenchu\\\" which translates roughly as \\\"divine punishment\\\") showcases Hideo Gosha at the top of his form. Do NOT miss this one, or Gosha's other classic, Goyokin! Hitokiri is not only one of Gosha's best films, it's one of the best \\\"samurai/chambara\\\" films ever made, and perhaps one of the best Japanese films ever exported.<br /><br />Be warned, all of the intricate plot details in Hitokiri can be a little hard to follow for those unfamiliar with 19th century Japanese history. Even so, the underlying human drama is obvious and open to all viewers. As per the norm for Gosha, Hitokiri provides yet another variation on his traditional theme of \\\"loyalty to one's lord\\\" vs. \\\"doing the right thing\\\". However, Gosha develops his favorite theme with such sophistication, that it's really _the_ movie to see (along with Goyokin, of course).<br /><br />I suppose it breaks down like this: If you want a simpler, more action-oriented tale, you might want to see Goyokin. However, if you want a more thoughtful, multilayered (albeit grim) drama, see this one.<br /><br />(OK, OK, essentially, the historical backdrop is a massive power grap between many different samurai clans who are either (1) working to reform, yet retain, the Tokugawa Shogunate, and (2) those who are trying to install the Emperor Meiji as the supreme ruler of Japan. Of course, those clans working \\\"for\\\" Emperor Meiji were often less interested in \\\"reforming\\\" Japan than in ensuring their own clan more power in the \\\"new world order\\\". Ironically, the entire feudal system was officially abolished as one of the first reforms of the Meiji government. It's ironic twists like this -- Gosha's big on irony -- that make the entire plot all the more bittersweet.)<br /><br />What distinguishes \\\"Hitokiri\\\" from Gosha's other movies is Gosha's mature sense of cinematography. Every shot is thoughtfully composed, and (much like Kubrick's Barry Lyndon) each frame of the movie could hold its own as a still composition. Of course, this is typical Gosha. Hitokiri really stands out with stunning backdrops, including(as with Goyokin) many riveting seascapes. Just watch the opening sequence, and you're hooked! Make no mistake, this is no English period piece: Hitokiri is extremely violent (don't say you weren't warned).<br /><br />What else, other than cool camera work, makes Hitokiri stand out? The performances seem (to me) a bit more subtle in this one. Katsu Shintaro (of Zatoichi/Hanzo the Razor fame) turns in a star performance as the conflicted protagonist/antihero, Okada Izo. Katsu manages to instill humanity to a character that seems almost more wild animal than villain. Throughout the movie, you're never quite sure if you're engaged or revolted by Okada's character. At the same time, Katsu's portrayal of Okada's ravenous hunger for respect, and his later pathetic attempts at redemption, seem so human that you can't help but feel empathy/sympathy. Of course, after seeing Nakadai Tatsuya play the tortured hero in \\\"Goyokin\\\", it's great to see him play such a ruthless villain in \\\"Hitokiri\\\". He's just perfect, there's nothing more to say!<br /><br />As a final note, perhaps more interesting to buffs than to casual fans, don't miss the last screen appearance of Mishima Yukio (yes, the closeted gay right-wing ultranationalist novelist who committed suicide by seppuku before the crowd of jeering Japanese military personnel he \\\"kidnapped\\\" in 1970, and had a movie on his life and work made by Paul Schrader), who actually does a pretty solid job of portraying the honorable (for an assassin) Shinbei Tanaka.\",\n          \"This one grew on me. I love the R.D. Burman music and in spite of the cruder elements of the story I found much to be moved by as I kept re-watching the movie. The brother-sister plot line is powerful, I thought; there's also more probably obligatory stuff, like bar fights, a loony crime story, etc. that are just distracting. (Though not unfunny from a certain point of view.) Also the English translation is definitely by someone for whom it was a bit of a stretch, and as loony as it is I am grateful to him for doing it.<br /><br />Like many of the Bollywood movies I've seen, this one is melodramatic and opera-like, including here notably a song sung first by a little boy to cheer up his abused and unhappy sister, and then the same song sung 12 or so years later by the man who has travelled to Kathmandu seeking to re-connect with this girl, grown up and troubled (she had been told her brother and mother were dead), numbing her pain with drugs.<br /><br />A super thing about this 1971 movie is that it is about the hippie movement, which brought hordes of seekers to India, from an Indian point of view, that sees them as people driven to India by a spiritual hunger aroused by the failings of their own societies, but nonetheless, in India, living only for the pleasures of the moment. The hippie singing-dancing-drugging scenes are truly wonderful, and accurate in their tone (I'm old enough to remember), and I feel pretty sure that the masses of young white zoned-out kids are actual hippie extras, as I remember hearing about kids on the caravan to the East getting this kind of work in Bollywood.<br /><br />(It is not about the actual Hare Krishna movement, though the movie hippies sing a Krishna/Rama chant, as do a group of actual Indian devotees, unrelated to the hippies, in the opening scene of the movie.)<br /><br />~Virginia\",\n          \"Nacho Vigalondo is very famous in Spain. He is a kind of bad showman who can make you feel sick... Very embarrassing. Nacho had made some commercials in TV, I remember one in which Nacho was looking for Paul Mc Carney around Madrid (the commercial was about a Mc Carney CD collection). <br /><br />This little movie is like a Nacho's commercial: bad storyline, bad directing, and awful performances. I can't believe that a disgusting movie like this was in The Kodak Theater. Poor Oscar...<br /><br />Nacho could made this movie because of his wife, the producer of this 7:35, a woman very well connected with Spanish TV business men.\"\n        ],\n        \"semantic_type\": \"\",\n        \"description\": \"\"\n      }\n    },\n    {\n      \"column\": \"label\",\n      \"properties\": {\n        \"dtype\": \"number\",\n        \"std\": 0,\n        \"min\": 0,\n        \"max\": 1,\n        \"num_unique_values\": 2,\n        \"samples\": [\n          0,\n          1\n        ],\n        \"semantic_type\": \"\",\n        \"description\": \"\"\n      }\n    },\n    {\n      \"column\": \"text_no_punct\",\n      \"properties\": {\n        \"dtype\": \"string\",\n        \"num_unique_values\": 1000,\n        \"samples\": [\n          \"Hitokiri which translates roughly as assassination aka Tenchu which translates roughly as divine punishment showcases Hideo Gosha at the top of his form Do NOT miss this one or Goshas other classic Goyokin Hitokiri is not only one of Goshas best films its one of the best samuraichambara films ever made and perhaps one of the best Japanese films ever exportedbr br Be warned all of the intricate plot details in Hitokiri can be a little hard to follow for those unfamiliar with 19th century Japanese history Even so the underlying human drama is obvious and open to all viewers As per the norm for Gosha Hitokiri provides yet another variation on his traditional theme of loyalty to ones lord vs doing the right thing However Gosha develops his favorite theme with such sophistication that its really the movie to see along with Goyokin of coursebr br I suppose it breaks down like this If you want a simpler more actionoriented tale you might want to see Goyokin However if you want a more thoughtful multilayered albeit grim drama see this onebr br OK OK essentially the historical backdrop is a massive power grap between many different samurai clans who are either 1 working to reform yet retain the Tokugawa Shogunate and 2 those who are trying to install the Emperor Meiji as the supreme ruler of Japan Of course those clans working for Emperor Meiji were often less interested in reforming Japan than in ensuring their own clan more power in the new world order Ironically the entire feudal system was officially abolished as one of the first reforms of the Meiji government Its ironic twists like this  Goshas big on irony  that make the entire plot all the more bittersweetbr br What distinguishes Hitokiri from Goshas other movies is Goshas mature sense of cinematography Every shot is thoughtfully composed and much like Kubricks Barry Lyndon each frame of the movie could hold its own as a still composition Of course this is typical Gosha Hitokiri really stands out with stunning backdrops includingas with Goyokin many riveting seascapes Just watch the opening sequence and youre hooked Make no mistake this is no English period piece Hitokiri is extremely violent dont say you werent warnedbr br What else other than cool camera work makes Hitokiri stand out The performances seem to me a bit more subtle in this one Katsu Shintaro of ZatoichiHanzo the Razor fame turns in a star performance as the conflicted protagonistantihero Okada Izo Katsu manages to instill humanity to a character that seems almost more wild animal than villain Throughout the movie youre never quite sure if youre engaged or revolted by Okadas character At the same time Katsus portrayal of Okadas ravenous hunger for respect and his later pathetic attempts at redemption seem so human that you cant help but feel empathysympathy Of course after seeing Nakadai Tatsuya play the tortured hero in Goyokin its great to see him play such a ruthless villain in Hitokiri Hes just perfect theres nothing more to saybr br As a final note perhaps more interesting to buffs than to casual fans dont miss the last screen appearance of Mishima Yukio yes the closeted gay rightwing ultranationalist novelist who committed suicide by seppuku before the crowd of jeering Japanese military personnel he kidnapped in 1970 and had a movie on his life and work made by Paul Schrader who actually does a pretty solid job of portraying the honorable for an assassin Shinbei Tanaka\",\n          \"This one grew on me I love the RD Burman music and in spite of the cruder elements of the story I found much to be moved by as I kept rewatching the movie The brothersister plot line is powerful I thought theres also more probably obligatory stuff like bar fights a loony crime story etc that are just distracting Though not unfunny from a certain point of view Also the English translation is definitely by someone for whom it was a bit of a stretch and as loony as it is I am grateful to him for doing itbr br Like many of the Bollywood movies Ive seen this one is melodramatic and operalike including here notably a song sung first by a little boy to cheer up his abused and unhappy sister and then the same song sung 12 or so years later by the man who has travelled to Kathmandu seeking to reconnect with this girl grown up and troubled she had been told her brother and mother were dead numbing her pain with drugsbr br A super thing about this 1971 movie is that it is about the hippie movement which brought hordes of seekers to India from an Indian point of view that sees them as people driven to India by a spiritual hunger aroused by the failings of their own societies but nonetheless in India living only for the pleasures of the moment The hippie singingdancingdrugging scenes are truly wonderful and accurate in their tone Im old enough to remember and I feel pretty sure that the masses of young white zonedout kids are actual hippie extras as I remember hearing about kids on the caravan to the East getting this kind of work in Bollywoodbr br It is not about the actual Hare Krishna movement though the movie hippies sing a KrishnaRama chant as do a group of actual Indian devotees unrelated to the hippies in the opening scene of the moviebr br Virginia\"\n        ],\n        \"semantic_type\": \"\",\n        \"description\": \"\"\n      }\n    }\n  ]\n}"
            }
          },
          "metadata": {},
          "execution_count": 14
        }
      ],
      "source": [
        "ds_train.head()"
      ]
    },
    {
      "cell_type": "code",
      "execution_count": null,
      "metadata": {
        "id": "x02carRCJvHx"
      },
      "outputs": [],
      "source": [
        "# for the test data\n",
        "ds_test['text_no_punct'] = ds_test['text'].apply(lambda x: remove_punctuation(x))"
      ]
    },
    {
      "cell_type": "markdown",
      "metadata": {
        "id": "XQsIhx2KTL90"
      },
      "source": [
        "## Tokenization"
      ]
    },
    {
      "cell_type": "markdown",
      "metadata": {
        "id": "43CfLldVTL90"
      },
      "source": [
        "Define a function to first make all the letters lowercase and then split each word into a separate string (giving us a list of strings). Note that the splitting happens based on spaces."
      ]
    },
    {
      "cell_type": "code",
      "execution_count": null,
      "metadata": {
        "id": "B5WVIpwLTL90"
      },
      "outputs": [],
      "source": [
        "def tokenize(text):\n",
        "    tokens = text.lower().split()\n",
        "\n",
        "    return tokens"
      ]
    },
    {
      "cell_type": "markdown",
      "metadata": {
        "id": "HN2pDnw0TL90"
      },
      "source": [
        "Now, let's apply that to each review (with punctuation removed)."
      ]
    },
    {
      "cell_type": "code",
      "execution_count": null,
      "metadata": {
        "id": "hvoILstzTL90"
      },
      "outputs": [],
      "source": [
        "ds_train['tokens'] = ds_train['text_no_punct'].apply(lambda x: tokenize(x))"
      ]
    },
    {
      "cell_type": "code",
      "execution_count": null,
      "metadata": {
        "colab": {
          "base_uri": "https://localhost:8080/",
          "height": 206
        },
        "id": "x7NGKdhaTL90",
        "outputId": "b9834974-d008-49ab-918c-cf3d0b63214c"
      },
      "outputs": [
        {
          "output_type": "execute_result",
          "data": {
            "text/plain": [
              "                                                text  label  \\\n",
              "0  There is no relation at all between Fortier an...      1   \n",
              "1  This movie is a great. The plot is very true t...      1   \n",
              "2  George P. Cosmatos' \"Rambo: First Blood Part I...      0   \n",
              "3  In the process of trying to establish the audi...      1   \n",
              "4  Yeh, I know -- you're quivering with excitemen...      0   \n",
              "\n",
              "                                       text_no_punct  \\\n",
              "0  There is no relation at all between Fortier an...   \n",
              "1  This movie is a great The plot is very true to...   \n",
              "2  George P Cosmatos Rambo First Blood Part II is...   \n",
              "3  In the process of trying to establish the audi...   \n",
              "4  Yeh I know  youre quivering with excitement We...   \n",
              "\n",
              "                                              tokens  \n",
              "0  [there, is, no, relation, at, all, between, fo...  \n",
              "1  [this, movie, is, a, great, the, plot, is, ver...  \n",
              "2  [george, p, cosmatos, rambo, first, blood, par...  \n",
              "3  [in, the, process, of, trying, to, establish, ...  \n",
              "4  [yeh, i, know, youre, quivering, with, excitem...  "
            ],
            "text/html": [
              "\n",
              "  <div id=\"df-ada9e647-6666-4897-9445-c92d3cf780ef\" class=\"colab-df-container\">\n",
              "    <div>\n",
              "<style scoped>\n",
              "    .dataframe tbody tr th:only-of-type {\n",
              "        vertical-align: middle;\n",
              "    }\n",
              "\n",
              "    .dataframe tbody tr th {\n",
              "        vertical-align: top;\n",
              "    }\n",
              "\n",
              "    .dataframe thead th {\n",
              "        text-align: right;\n",
              "    }\n",
              "</style>\n",
              "<table border=\"1\" class=\"dataframe\">\n",
              "  <thead>\n",
              "    <tr style=\"text-align: right;\">\n",
              "      <th></th>\n",
              "      <th>text</th>\n",
              "      <th>label</th>\n",
              "      <th>text_no_punct</th>\n",
              "      <th>tokens</th>\n",
              "    </tr>\n",
              "  </thead>\n",
              "  <tbody>\n",
              "    <tr>\n",
              "      <th>0</th>\n",
              "      <td>There is no relation at all between Fortier an...</td>\n",
              "      <td>1</td>\n",
              "      <td>There is no relation at all between Fortier an...</td>\n",
              "      <td>[there, is, no, relation, at, all, between, fo...</td>\n",
              "    </tr>\n",
              "    <tr>\n",
              "      <th>1</th>\n",
              "      <td>This movie is a great. The plot is very true t...</td>\n",
              "      <td>1</td>\n",
              "      <td>This movie is a great The plot is very true to...</td>\n",
              "      <td>[this, movie, is, a, great, the, plot, is, ver...</td>\n",
              "    </tr>\n",
              "    <tr>\n",
              "      <th>2</th>\n",
              "      <td>George P. Cosmatos' \"Rambo: First Blood Part I...</td>\n",
              "      <td>0</td>\n",
              "      <td>George P Cosmatos Rambo First Blood Part II is...</td>\n",
              "      <td>[george, p, cosmatos, rambo, first, blood, par...</td>\n",
              "    </tr>\n",
              "    <tr>\n",
              "      <th>3</th>\n",
              "      <td>In the process of trying to establish the audi...</td>\n",
              "      <td>1</td>\n",
              "      <td>In the process of trying to establish the audi...</td>\n",
              "      <td>[in, the, process, of, trying, to, establish, ...</td>\n",
              "    </tr>\n",
              "    <tr>\n",
              "      <th>4</th>\n",
              "      <td>Yeh, I know -- you're quivering with excitemen...</td>\n",
              "      <td>0</td>\n",
              "      <td>Yeh I know  youre quivering with excitement We...</td>\n",
              "      <td>[yeh, i, know, youre, quivering, with, excitem...</td>\n",
              "    </tr>\n",
              "  </tbody>\n",
              "</table>\n",
              "</div>\n",
              "    <div class=\"colab-df-buttons\">\n",
              "\n",
              "  <div class=\"colab-df-container\">\n",
              "    <button class=\"colab-df-convert\" onclick=\"convertToInteractive('df-ada9e647-6666-4897-9445-c92d3cf780ef')\"\n",
              "            title=\"Convert this dataframe to an interactive table.\"\n",
              "            style=\"display:none;\">\n",
              "\n",
              "  <svg xmlns=\"http://www.w3.org/2000/svg\" height=\"24px\" viewBox=\"0 -960 960 960\">\n",
              "    <path d=\"M120-120v-720h720v720H120Zm60-500h600v-160H180v160Zm220 220h160v-160H400v160Zm0 220h160v-160H400v160ZM180-400h160v-160H180v160Zm440 0h160v-160H620v160ZM180-180h160v-160H180v160Zm440 0h160v-160H620v160Z\"/>\n",
              "  </svg>\n",
              "    </button>\n",
              "\n",
              "  <style>\n",
              "    .colab-df-container {\n",
              "      display:flex;\n",
              "      gap: 12px;\n",
              "    }\n",
              "\n",
              "    .colab-df-convert {\n",
              "      background-color: #E8F0FE;\n",
              "      border: none;\n",
              "      border-radius: 50%;\n",
              "      cursor: pointer;\n",
              "      display: none;\n",
              "      fill: #1967D2;\n",
              "      height: 32px;\n",
              "      padding: 0 0 0 0;\n",
              "      width: 32px;\n",
              "    }\n",
              "\n",
              "    .colab-df-convert:hover {\n",
              "      background-color: #E2EBFA;\n",
              "      box-shadow: 0px 1px 2px rgba(60, 64, 67, 0.3), 0px 1px 3px 1px rgba(60, 64, 67, 0.15);\n",
              "      fill: #174EA6;\n",
              "    }\n",
              "\n",
              "    .colab-df-buttons div {\n",
              "      margin-bottom: 4px;\n",
              "    }\n",
              "\n",
              "    [theme=dark] .colab-df-convert {\n",
              "      background-color: #3B4455;\n",
              "      fill: #D2E3FC;\n",
              "    }\n",
              "\n",
              "    [theme=dark] .colab-df-convert:hover {\n",
              "      background-color: #434B5C;\n",
              "      box-shadow: 0px 1px 3px 1px rgba(0, 0, 0, 0.15);\n",
              "      filter: drop-shadow(0px 1px 2px rgba(0, 0, 0, 0.3));\n",
              "      fill: #FFFFFF;\n",
              "    }\n",
              "  </style>\n",
              "\n",
              "    <script>\n",
              "      const buttonEl =\n",
              "        document.querySelector('#df-ada9e647-6666-4897-9445-c92d3cf780ef button.colab-df-convert');\n",
              "      buttonEl.style.display =\n",
              "        google.colab.kernel.accessAllowed ? 'block' : 'none';\n",
              "\n",
              "      async function convertToInteractive(key) {\n",
              "        const element = document.querySelector('#df-ada9e647-6666-4897-9445-c92d3cf780ef');\n",
              "        const dataTable =\n",
              "          await google.colab.kernel.invokeFunction('convertToInteractive',\n",
              "                                                    [key], {});\n",
              "        if (!dataTable) return;\n",
              "\n",
              "        const docLinkHtml = 'Like what you see? Visit the ' +\n",
              "          '<a target=\"_blank\" href=https://colab.research.google.com/notebooks/data_table.ipynb>data table notebook</a>'\n",
              "          + ' to learn more about interactive tables.';\n",
              "        element.innerHTML = '';\n",
              "        dataTable['output_type'] = 'display_data';\n",
              "        await google.colab.output.renderOutput(dataTable, element);\n",
              "        const docLink = document.createElement('div');\n",
              "        docLink.innerHTML = docLinkHtml;\n",
              "        element.appendChild(docLink);\n",
              "      }\n",
              "    </script>\n",
              "  </div>\n",
              "\n",
              "\n",
              "<div id=\"df-346b910f-0279-4e02-b7ad-0c736462e4d0\">\n",
              "  <button class=\"colab-df-quickchart\" onclick=\"quickchart('df-346b910f-0279-4e02-b7ad-0c736462e4d0')\"\n",
              "            title=\"Suggest charts\"\n",
              "            style=\"display:none;\">\n",
              "\n",
              "<svg xmlns=\"http://www.w3.org/2000/svg\" height=\"24px\"viewBox=\"0 0 24 24\"\n",
              "     width=\"24px\">\n",
              "    <g>\n",
              "        <path d=\"M19 3H5c-1.1 0-2 .9-2 2v14c0 1.1.9 2 2 2h14c1.1 0 2-.9 2-2V5c0-1.1-.9-2-2-2zM9 17H7v-7h2v7zm4 0h-2V7h2v10zm4 0h-2v-4h2v4z\"/>\n",
              "    </g>\n",
              "</svg>\n",
              "  </button>\n",
              "\n",
              "<style>\n",
              "  .colab-df-quickchart {\n",
              "      --bg-color: #E8F0FE;\n",
              "      --fill-color: #1967D2;\n",
              "      --hover-bg-color: #E2EBFA;\n",
              "      --hover-fill-color: #174EA6;\n",
              "      --disabled-fill-color: #AAA;\n",
              "      --disabled-bg-color: #DDD;\n",
              "  }\n",
              "\n",
              "  [theme=dark] .colab-df-quickchart {\n",
              "      --bg-color: #3B4455;\n",
              "      --fill-color: #D2E3FC;\n",
              "      --hover-bg-color: #434B5C;\n",
              "      --hover-fill-color: #FFFFFF;\n",
              "      --disabled-bg-color: #3B4455;\n",
              "      --disabled-fill-color: #666;\n",
              "  }\n",
              "\n",
              "  .colab-df-quickchart {\n",
              "    background-color: var(--bg-color);\n",
              "    border: none;\n",
              "    border-radius: 50%;\n",
              "    cursor: pointer;\n",
              "    display: none;\n",
              "    fill: var(--fill-color);\n",
              "    height: 32px;\n",
              "    padding: 0;\n",
              "    width: 32px;\n",
              "  }\n",
              "\n",
              "  .colab-df-quickchart:hover {\n",
              "    background-color: var(--hover-bg-color);\n",
              "    box-shadow: 0 1px 2px rgba(60, 64, 67, 0.3), 0 1px 3px 1px rgba(60, 64, 67, 0.15);\n",
              "    fill: var(--button-hover-fill-color);\n",
              "  }\n",
              "\n",
              "  .colab-df-quickchart-complete:disabled,\n",
              "  .colab-df-quickchart-complete:disabled:hover {\n",
              "    background-color: var(--disabled-bg-color);\n",
              "    fill: var(--disabled-fill-color);\n",
              "    box-shadow: none;\n",
              "  }\n",
              "\n",
              "  .colab-df-spinner {\n",
              "    border: 2px solid var(--fill-color);\n",
              "    border-color: transparent;\n",
              "    border-bottom-color: var(--fill-color);\n",
              "    animation:\n",
              "      spin 1s steps(1) infinite;\n",
              "  }\n",
              "\n",
              "  @keyframes spin {\n",
              "    0% {\n",
              "      border-color: transparent;\n",
              "      border-bottom-color: var(--fill-color);\n",
              "      border-left-color: var(--fill-color);\n",
              "    }\n",
              "    20% {\n",
              "      border-color: transparent;\n",
              "      border-left-color: var(--fill-color);\n",
              "      border-top-color: var(--fill-color);\n",
              "    }\n",
              "    30% {\n",
              "      border-color: transparent;\n",
              "      border-left-color: var(--fill-color);\n",
              "      border-top-color: var(--fill-color);\n",
              "      border-right-color: var(--fill-color);\n",
              "    }\n",
              "    40% {\n",
              "      border-color: transparent;\n",
              "      border-right-color: var(--fill-color);\n",
              "      border-top-color: var(--fill-color);\n",
              "    }\n",
              "    60% {\n",
              "      border-color: transparent;\n",
              "      border-right-color: var(--fill-color);\n",
              "    }\n",
              "    80% {\n",
              "      border-color: transparent;\n",
              "      border-right-color: var(--fill-color);\n",
              "      border-bottom-color: var(--fill-color);\n",
              "    }\n",
              "    90% {\n",
              "      border-color: transparent;\n",
              "      border-bottom-color: var(--fill-color);\n",
              "    }\n",
              "  }\n",
              "</style>\n",
              "\n",
              "  <script>\n",
              "    async function quickchart(key) {\n",
              "      const quickchartButtonEl =\n",
              "        document.querySelector('#' + key + ' button');\n",
              "      quickchartButtonEl.disabled = true;  // To prevent multiple clicks.\n",
              "      quickchartButtonEl.classList.add('colab-df-spinner');\n",
              "      try {\n",
              "        const charts = await google.colab.kernel.invokeFunction(\n",
              "            'suggestCharts', [key], {});\n",
              "      } catch (error) {\n",
              "        console.error('Error during call to suggestCharts:', error);\n",
              "      }\n",
              "      quickchartButtonEl.classList.remove('colab-df-spinner');\n",
              "      quickchartButtonEl.classList.add('colab-df-quickchart-complete');\n",
              "    }\n",
              "    (() => {\n",
              "      let quickchartButtonEl =\n",
              "        document.querySelector('#df-346b910f-0279-4e02-b7ad-0c736462e4d0 button');\n",
              "      quickchartButtonEl.style.display =\n",
              "        google.colab.kernel.accessAllowed ? 'block' : 'none';\n",
              "    })();\n",
              "  </script>\n",
              "</div>\n",
              "\n",
              "    </div>\n",
              "  </div>\n"
            ],
            "application/vnd.google.colaboratory.intrinsic+json": {
              "type": "dataframe",
              "variable_name": "ds_train",
              "summary": "{\n  \"name\": \"ds_train\",\n  \"rows\": 1000,\n  \"fields\": [\n    {\n      \"column\": \"text\",\n      \"properties\": {\n        \"dtype\": \"string\",\n        \"num_unique_values\": 1000,\n        \"samples\": [\n          \"Hitokiri (which translates roughly as \\\"assassination\\\"), a/k/a \\\"Tenchu\\\" which translates roughly as \\\"divine punishment\\\") showcases Hideo Gosha at the top of his form. Do NOT miss this one, or Gosha's other classic, Goyokin! Hitokiri is not only one of Gosha's best films, it's one of the best \\\"samurai/chambara\\\" films ever made, and perhaps one of the best Japanese films ever exported.<br /><br />Be warned, all of the intricate plot details in Hitokiri can be a little hard to follow for those unfamiliar with 19th century Japanese history. Even so, the underlying human drama is obvious and open to all viewers. As per the norm for Gosha, Hitokiri provides yet another variation on his traditional theme of \\\"loyalty to one's lord\\\" vs. \\\"doing the right thing\\\". However, Gosha develops his favorite theme with such sophistication, that it's really _the_ movie to see (along with Goyokin, of course).<br /><br />I suppose it breaks down like this: If you want a simpler, more action-oriented tale, you might want to see Goyokin. However, if you want a more thoughtful, multilayered (albeit grim) drama, see this one.<br /><br />(OK, OK, essentially, the historical backdrop is a massive power grap between many different samurai clans who are either (1) working to reform, yet retain, the Tokugawa Shogunate, and (2) those who are trying to install the Emperor Meiji as the supreme ruler of Japan. Of course, those clans working \\\"for\\\" Emperor Meiji were often less interested in \\\"reforming\\\" Japan than in ensuring their own clan more power in the \\\"new world order\\\". Ironically, the entire feudal system was officially abolished as one of the first reforms of the Meiji government. It's ironic twists like this -- Gosha's big on irony -- that make the entire plot all the more bittersweet.)<br /><br />What distinguishes \\\"Hitokiri\\\" from Gosha's other movies is Gosha's mature sense of cinematography. Every shot is thoughtfully composed, and (much like Kubrick's Barry Lyndon) each frame of the movie could hold its own as a still composition. Of course, this is typical Gosha. Hitokiri really stands out with stunning backdrops, including(as with Goyokin) many riveting seascapes. Just watch the opening sequence, and you're hooked! Make no mistake, this is no English period piece: Hitokiri is extremely violent (don't say you weren't warned).<br /><br />What else, other than cool camera work, makes Hitokiri stand out? The performances seem (to me) a bit more subtle in this one. Katsu Shintaro (of Zatoichi/Hanzo the Razor fame) turns in a star performance as the conflicted protagonist/antihero, Okada Izo. Katsu manages to instill humanity to a character that seems almost more wild animal than villain. Throughout the movie, you're never quite sure if you're engaged or revolted by Okada's character. At the same time, Katsu's portrayal of Okada's ravenous hunger for respect, and his later pathetic attempts at redemption, seem so human that you can't help but feel empathy/sympathy. Of course, after seeing Nakadai Tatsuya play the tortured hero in \\\"Goyokin\\\", it's great to see him play such a ruthless villain in \\\"Hitokiri\\\". He's just perfect, there's nothing more to say!<br /><br />As a final note, perhaps more interesting to buffs than to casual fans, don't miss the last screen appearance of Mishima Yukio (yes, the closeted gay right-wing ultranationalist novelist who committed suicide by seppuku before the crowd of jeering Japanese military personnel he \\\"kidnapped\\\" in 1970, and had a movie on his life and work made by Paul Schrader), who actually does a pretty solid job of portraying the honorable (for an assassin) Shinbei Tanaka.\",\n          \"This one grew on me. I love the R.D. Burman music and in spite of the cruder elements of the story I found much to be moved by as I kept re-watching the movie. The brother-sister plot line is powerful, I thought; there's also more probably obligatory stuff, like bar fights, a loony crime story, etc. that are just distracting. (Though not unfunny from a certain point of view.) Also the English translation is definitely by someone for whom it was a bit of a stretch, and as loony as it is I am grateful to him for doing it.<br /><br />Like many of the Bollywood movies I've seen, this one is melodramatic and opera-like, including here notably a song sung first by a little boy to cheer up his abused and unhappy sister, and then the same song sung 12 or so years later by the man who has travelled to Kathmandu seeking to re-connect with this girl, grown up and troubled (she had been told her brother and mother were dead), numbing her pain with drugs.<br /><br />A super thing about this 1971 movie is that it is about the hippie movement, which brought hordes of seekers to India, from an Indian point of view, that sees them as people driven to India by a spiritual hunger aroused by the failings of their own societies, but nonetheless, in India, living only for the pleasures of the moment. The hippie singing-dancing-drugging scenes are truly wonderful, and accurate in their tone (I'm old enough to remember), and I feel pretty sure that the masses of young white zoned-out kids are actual hippie extras, as I remember hearing about kids on the caravan to the East getting this kind of work in Bollywood.<br /><br />(It is not about the actual Hare Krishna movement, though the movie hippies sing a Krishna/Rama chant, as do a group of actual Indian devotees, unrelated to the hippies, in the opening scene of the movie.)<br /><br />~Virginia\",\n          \"Nacho Vigalondo is very famous in Spain. He is a kind of bad showman who can make you feel sick... Very embarrassing. Nacho had made some commercials in TV, I remember one in which Nacho was looking for Paul Mc Carney around Madrid (the commercial was about a Mc Carney CD collection). <br /><br />This little movie is like a Nacho's commercial: bad storyline, bad directing, and awful performances. I can't believe that a disgusting movie like this was in The Kodak Theater. Poor Oscar...<br /><br />Nacho could made this movie because of his wife, the producer of this 7:35, a woman very well connected with Spanish TV business men.\"\n        ],\n        \"semantic_type\": \"\",\n        \"description\": \"\"\n      }\n    },\n    {\n      \"column\": \"label\",\n      \"properties\": {\n        \"dtype\": \"number\",\n        \"std\": 0,\n        \"min\": 0,\n        \"max\": 1,\n        \"num_unique_values\": 2,\n        \"samples\": [\n          0,\n          1\n        ],\n        \"semantic_type\": \"\",\n        \"description\": \"\"\n      }\n    },\n    {\n      \"column\": \"text_no_punct\",\n      \"properties\": {\n        \"dtype\": \"string\",\n        \"num_unique_values\": 1000,\n        \"samples\": [\n          \"Hitokiri which translates roughly as assassination aka Tenchu which translates roughly as divine punishment showcases Hideo Gosha at the top of his form Do NOT miss this one or Goshas other classic Goyokin Hitokiri is not only one of Goshas best films its one of the best samuraichambara films ever made and perhaps one of the best Japanese films ever exportedbr br Be warned all of the intricate plot details in Hitokiri can be a little hard to follow for those unfamiliar with 19th century Japanese history Even so the underlying human drama is obvious and open to all viewers As per the norm for Gosha Hitokiri provides yet another variation on his traditional theme of loyalty to ones lord vs doing the right thing However Gosha develops his favorite theme with such sophistication that its really the movie to see along with Goyokin of coursebr br I suppose it breaks down like this If you want a simpler more actionoriented tale you might want to see Goyokin However if you want a more thoughtful multilayered albeit grim drama see this onebr br OK OK essentially the historical backdrop is a massive power grap between many different samurai clans who are either 1 working to reform yet retain the Tokugawa Shogunate and 2 those who are trying to install the Emperor Meiji as the supreme ruler of Japan Of course those clans working for Emperor Meiji were often less interested in reforming Japan than in ensuring their own clan more power in the new world order Ironically the entire feudal system was officially abolished as one of the first reforms of the Meiji government Its ironic twists like this  Goshas big on irony  that make the entire plot all the more bittersweetbr br What distinguishes Hitokiri from Goshas other movies is Goshas mature sense of cinematography Every shot is thoughtfully composed and much like Kubricks Barry Lyndon each frame of the movie could hold its own as a still composition Of course this is typical Gosha Hitokiri really stands out with stunning backdrops includingas with Goyokin many riveting seascapes Just watch the opening sequence and youre hooked Make no mistake this is no English period piece Hitokiri is extremely violent dont say you werent warnedbr br What else other than cool camera work makes Hitokiri stand out The performances seem to me a bit more subtle in this one Katsu Shintaro of ZatoichiHanzo the Razor fame turns in a star performance as the conflicted protagonistantihero Okada Izo Katsu manages to instill humanity to a character that seems almost more wild animal than villain Throughout the movie youre never quite sure if youre engaged or revolted by Okadas character At the same time Katsus portrayal of Okadas ravenous hunger for respect and his later pathetic attempts at redemption seem so human that you cant help but feel empathysympathy Of course after seeing Nakadai Tatsuya play the tortured hero in Goyokin its great to see him play such a ruthless villain in Hitokiri Hes just perfect theres nothing more to saybr br As a final note perhaps more interesting to buffs than to casual fans dont miss the last screen appearance of Mishima Yukio yes the closeted gay rightwing ultranationalist novelist who committed suicide by seppuku before the crowd of jeering Japanese military personnel he kidnapped in 1970 and had a movie on his life and work made by Paul Schrader who actually does a pretty solid job of portraying the honorable for an assassin Shinbei Tanaka\",\n          \"This one grew on me I love the RD Burman music and in spite of the cruder elements of the story I found much to be moved by as I kept rewatching the movie The brothersister plot line is powerful I thought theres also more probably obligatory stuff like bar fights a loony crime story etc that are just distracting Though not unfunny from a certain point of view Also the English translation is definitely by someone for whom it was a bit of a stretch and as loony as it is I am grateful to him for doing itbr br Like many of the Bollywood movies Ive seen this one is melodramatic and operalike including here notably a song sung first by a little boy to cheer up his abused and unhappy sister and then the same song sung 12 or so years later by the man who has travelled to Kathmandu seeking to reconnect with this girl grown up and troubled she had been told her brother and mother were dead numbing her pain with drugsbr br A super thing about this 1971 movie is that it is about the hippie movement which brought hordes of seekers to India from an Indian point of view that sees them as people driven to India by a spiritual hunger aroused by the failings of their own societies but nonetheless in India living only for the pleasures of the moment The hippie singingdancingdrugging scenes are truly wonderful and accurate in their tone Im old enough to remember and I feel pretty sure that the masses of young white zonedout kids are actual hippie extras as I remember hearing about kids on the caravan to the East getting this kind of work in Bollywoodbr br It is not about the actual Hare Krishna movement though the movie hippies sing a KrishnaRama chant as do a group of actual Indian devotees unrelated to the hippies in the opening scene of the moviebr br Virginia\"\n        ],\n        \"semantic_type\": \"\",\n        \"description\": \"\"\n      }\n    },\n    {\n      \"column\": \"tokens\",\n      \"properties\": {\n        \"dtype\": \"object\",\n        \"semantic_type\": \"\",\n        \"description\": \"\"\n      }\n    }\n  ]\n}"
            }
          },
          "metadata": {},
          "execution_count": 18
        }
      ],
      "source": [
        "ds_train.head()"
      ]
    },
    {
      "cell_type": "code",
      "execution_count": null,
      "metadata": {
        "id": "WbU0Fs5iJ_2r"
      },
      "outputs": [],
      "source": [
        "ds_test['tokens'] = ds_test['text_no_punct'].apply(lambda x: tokenize(x))"
      ]
    },
    {
      "cell_type": "markdown",
      "metadata": {
        "id": "cxyKrIyiTL91"
      },
      "source": [
        "## Removing Stop Words"
      ]
    },
    {
      "cell_type": "markdown",
      "metadata": {
        "id": "ceETLtDNTL91"
      },
      "source": [
        "First, import the stopwords corpus from NLTK."
      ]
    },
    {
      "cell_type": "code",
      "execution_count": null,
      "metadata": {
        "colab": {
          "base_uri": "https://localhost:8080/"
        },
        "id": "5v6yBHzUOT_K",
        "outputId": "f0036b11-e457-4b36-f8bb-edbdb5a471d0"
      },
      "outputs": [
        {
          "output_type": "stream",
          "name": "stderr",
          "text": [
            "[nltk_data] Downloading package stopwords to /root/nltk_data...\n",
            "[nltk_data]   Package stopwords is already up-to-date!\n"
          ]
        },
        {
          "output_type": "execute_result",
          "data": {
            "text/plain": [
              "True"
            ]
          },
          "metadata": {},
          "execution_count": 20
        }
      ],
      "source": [
        " import nltk\n",
        " nltk.download('stopwords')"
      ]
    },
    {
      "cell_type": "code",
      "execution_count": null,
      "metadata": {
        "id": "H-UoJshRTL91"
      },
      "outputs": [],
      "source": [
        "from nltk.corpus import stopwords\n",
        "\n",
        "stop_words = stopwords.words('english')"
      ]
    },
    {
      "cell_type": "markdown",
      "metadata": {
        "id": "ylL75VtQTL91"
      },
      "source": [
        "Make a function to remove stop words:"
      ]
    },
    {
      "cell_type": "code",
      "execution_count": null,
      "metadata": {
        "id": "YH4yLjlkTL91"
      },
      "outputs": [],
      "source": [
        "def remove_stopwords(text):\n",
        "    text = [word for word in text if word not in stop_words]\n",
        "\n",
        "    return text"
      ]
    },
    {
      "cell_type": "markdown",
      "metadata": {
        "id": "FrtZFJkOTL91"
      },
      "source": [
        "Now, let's apply that to each review (after tokenization with punctuation removed)."
      ]
    },
    {
      "cell_type": "code",
      "execution_count": null,
      "metadata": {
        "id": "rFlOw85YTL91"
      },
      "outputs": [],
      "source": [
        "# for train data\n",
        "ds_train['tokens_nostop'] = ds_train['tokens'].apply(lambda x: remove_stopwords(x))"
      ]
    },
    {
      "cell_type": "code",
      "execution_count": null,
      "metadata": {
        "colab": {
          "base_uri": "https://localhost:8080/",
          "height": 241
        },
        "id": "yYoEqfTCTL91",
        "outputId": "9aea6f76-6d66-4d94-c4b2-6c86655c6906"
      },
      "outputs": [
        {
          "output_type": "execute_result",
          "data": {
            "text/plain": [
              "                                                text  label  \\\n",
              "0  There is no relation at all between Fortier an...      1   \n",
              "1  This movie is a great. The plot is very true t...      1   \n",
              "2  George P. Cosmatos' \"Rambo: First Blood Part I...      0   \n",
              "3  In the process of trying to establish the audi...      1   \n",
              "4  Yeh, I know -- you're quivering with excitemen...      0   \n",
              "\n",
              "                                       text_no_punct  \\\n",
              "0  There is no relation at all between Fortier an...   \n",
              "1  This movie is a great The plot is very true to...   \n",
              "2  George P Cosmatos Rambo First Blood Part II is...   \n",
              "3  In the process of trying to establish the audi...   \n",
              "4  Yeh I know  youre quivering with excitement We...   \n",
              "\n",
              "                                              tokens  \\\n",
              "0  [there, is, no, relation, at, all, between, fo...   \n",
              "1  [this, movie, is, a, great, the, plot, is, ver...   \n",
              "2  [george, p, cosmatos, rambo, first, blood, par...   \n",
              "3  [in, the, process, of, trying, to, establish, ...   \n",
              "4  [yeh, i, know, youre, quivering, with, excitem...   \n",
              "\n",
              "                                       tokens_nostop  \n",
              "0  [relation, fortier, profiler, fact, police, se...  \n",
              "1  [movie, great, plot, true, book, classic, writ...  \n",
              "2  [george, p, cosmatos, rambo, first, blood, par...  \n",
              "3  [process, trying, establish, audiences, empath...  \n",
              "4  [yeh, know, youre, quivering, excitement, well...  "
            ],
            "text/html": [
              "\n",
              "  <div id=\"df-d6f16783-5e0a-42a7-9f7a-43d96faa2fd3\" class=\"colab-df-container\">\n",
              "    <div>\n",
              "<style scoped>\n",
              "    .dataframe tbody tr th:only-of-type {\n",
              "        vertical-align: middle;\n",
              "    }\n",
              "\n",
              "    .dataframe tbody tr th {\n",
              "        vertical-align: top;\n",
              "    }\n",
              "\n",
              "    .dataframe thead th {\n",
              "        text-align: right;\n",
              "    }\n",
              "</style>\n",
              "<table border=\"1\" class=\"dataframe\">\n",
              "  <thead>\n",
              "    <tr style=\"text-align: right;\">\n",
              "      <th></th>\n",
              "      <th>text</th>\n",
              "      <th>label</th>\n",
              "      <th>text_no_punct</th>\n",
              "      <th>tokens</th>\n",
              "      <th>tokens_nostop</th>\n",
              "    </tr>\n",
              "  </thead>\n",
              "  <tbody>\n",
              "    <tr>\n",
              "      <th>0</th>\n",
              "      <td>There is no relation at all between Fortier an...</td>\n",
              "      <td>1</td>\n",
              "      <td>There is no relation at all between Fortier an...</td>\n",
              "      <td>[there, is, no, relation, at, all, between, fo...</td>\n",
              "      <td>[relation, fortier, profiler, fact, police, se...</td>\n",
              "    </tr>\n",
              "    <tr>\n",
              "      <th>1</th>\n",
              "      <td>This movie is a great. The plot is very true t...</td>\n",
              "      <td>1</td>\n",
              "      <td>This movie is a great The plot is very true to...</td>\n",
              "      <td>[this, movie, is, a, great, the, plot, is, ver...</td>\n",
              "      <td>[movie, great, plot, true, book, classic, writ...</td>\n",
              "    </tr>\n",
              "    <tr>\n",
              "      <th>2</th>\n",
              "      <td>George P. Cosmatos' \"Rambo: First Blood Part I...</td>\n",
              "      <td>0</td>\n",
              "      <td>George P Cosmatos Rambo First Blood Part II is...</td>\n",
              "      <td>[george, p, cosmatos, rambo, first, blood, par...</td>\n",
              "      <td>[george, p, cosmatos, rambo, first, blood, par...</td>\n",
              "    </tr>\n",
              "    <tr>\n",
              "      <th>3</th>\n",
              "      <td>In the process of trying to establish the audi...</td>\n",
              "      <td>1</td>\n",
              "      <td>In the process of trying to establish the audi...</td>\n",
              "      <td>[in, the, process, of, trying, to, establish, ...</td>\n",
              "      <td>[process, trying, establish, audiences, empath...</td>\n",
              "    </tr>\n",
              "    <tr>\n",
              "      <th>4</th>\n",
              "      <td>Yeh, I know -- you're quivering with excitemen...</td>\n",
              "      <td>0</td>\n",
              "      <td>Yeh I know  youre quivering with excitement We...</td>\n",
              "      <td>[yeh, i, know, youre, quivering, with, excitem...</td>\n",
              "      <td>[yeh, know, youre, quivering, excitement, well...</td>\n",
              "    </tr>\n",
              "  </tbody>\n",
              "</table>\n",
              "</div>\n",
              "    <div class=\"colab-df-buttons\">\n",
              "\n",
              "  <div class=\"colab-df-container\">\n",
              "    <button class=\"colab-df-convert\" onclick=\"convertToInteractive('df-d6f16783-5e0a-42a7-9f7a-43d96faa2fd3')\"\n",
              "            title=\"Convert this dataframe to an interactive table.\"\n",
              "            style=\"display:none;\">\n",
              "\n",
              "  <svg xmlns=\"http://www.w3.org/2000/svg\" height=\"24px\" viewBox=\"0 -960 960 960\">\n",
              "    <path d=\"M120-120v-720h720v720H120Zm60-500h600v-160H180v160Zm220 220h160v-160H400v160Zm0 220h160v-160H400v160ZM180-400h160v-160H180v160Zm440 0h160v-160H620v160ZM180-180h160v-160H180v160Zm440 0h160v-160H620v160Z\"/>\n",
              "  </svg>\n",
              "    </button>\n",
              "\n",
              "  <style>\n",
              "    .colab-df-container {\n",
              "      display:flex;\n",
              "      gap: 12px;\n",
              "    }\n",
              "\n",
              "    .colab-df-convert {\n",
              "      background-color: #E8F0FE;\n",
              "      border: none;\n",
              "      border-radius: 50%;\n",
              "      cursor: pointer;\n",
              "      display: none;\n",
              "      fill: #1967D2;\n",
              "      height: 32px;\n",
              "      padding: 0 0 0 0;\n",
              "      width: 32px;\n",
              "    }\n",
              "\n",
              "    .colab-df-convert:hover {\n",
              "      background-color: #E2EBFA;\n",
              "      box-shadow: 0px 1px 2px rgba(60, 64, 67, 0.3), 0px 1px 3px 1px rgba(60, 64, 67, 0.15);\n",
              "      fill: #174EA6;\n",
              "    }\n",
              "\n",
              "    .colab-df-buttons div {\n",
              "      margin-bottom: 4px;\n",
              "    }\n",
              "\n",
              "    [theme=dark] .colab-df-convert {\n",
              "      background-color: #3B4455;\n",
              "      fill: #D2E3FC;\n",
              "    }\n",
              "\n",
              "    [theme=dark] .colab-df-convert:hover {\n",
              "      background-color: #434B5C;\n",
              "      box-shadow: 0px 1px 3px 1px rgba(0, 0, 0, 0.15);\n",
              "      filter: drop-shadow(0px 1px 2px rgba(0, 0, 0, 0.3));\n",
              "      fill: #FFFFFF;\n",
              "    }\n",
              "  </style>\n",
              "\n",
              "    <script>\n",
              "      const buttonEl =\n",
              "        document.querySelector('#df-d6f16783-5e0a-42a7-9f7a-43d96faa2fd3 button.colab-df-convert');\n",
              "      buttonEl.style.display =\n",
              "        google.colab.kernel.accessAllowed ? 'block' : 'none';\n",
              "\n",
              "      async function convertToInteractive(key) {\n",
              "        const element = document.querySelector('#df-d6f16783-5e0a-42a7-9f7a-43d96faa2fd3');\n",
              "        const dataTable =\n",
              "          await google.colab.kernel.invokeFunction('convertToInteractive',\n",
              "                                                    [key], {});\n",
              "        if (!dataTable) return;\n",
              "\n",
              "        const docLinkHtml = 'Like what you see? Visit the ' +\n",
              "          '<a target=\"_blank\" href=https://colab.research.google.com/notebooks/data_table.ipynb>data table notebook</a>'\n",
              "          + ' to learn more about interactive tables.';\n",
              "        element.innerHTML = '';\n",
              "        dataTable['output_type'] = 'display_data';\n",
              "        await google.colab.output.renderOutput(dataTable, element);\n",
              "        const docLink = document.createElement('div');\n",
              "        docLink.innerHTML = docLinkHtml;\n",
              "        element.appendChild(docLink);\n",
              "      }\n",
              "    </script>\n",
              "  </div>\n",
              "\n",
              "\n",
              "<div id=\"df-f56288fe-3e44-4e46-a2d5-0efe69e5d62d\">\n",
              "  <button class=\"colab-df-quickchart\" onclick=\"quickchart('df-f56288fe-3e44-4e46-a2d5-0efe69e5d62d')\"\n",
              "            title=\"Suggest charts\"\n",
              "            style=\"display:none;\">\n",
              "\n",
              "<svg xmlns=\"http://www.w3.org/2000/svg\" height=\"24px\"viewBox=\"0 0 24 24\"\n",
              "     width=\"24px\">\n",
              "    <g>\n",
              "        <path d=\"M19 3H5c-1.1 0-2 .9-2 2v14c0 1.1.9 2 2 2h14c1.1 0 2-.9 2-2V5c0-1.1-.9-2-2-2zM9 17H7v-7h2v7zm4 0h-2V7h2v10zm4 0h-2v-4h2v4z\"/>\n",
              "    </g>\n",
              "</svg>\n",
              "  </button>\n",
              "\n",
              "<style>\n",
              "  .colab-df-quickchart {\n",
              "      --bg-color: #E8F0FE;\n",
              "      --fill-color: #1967D2;\n",
              "      --hover-bg-color: #E2EBFA;\n",
              "      --hover-fill-color: #174EA6;\n",
              "      --disabled-fill-color: #AAA;\n",
              "      --disabled-bg-color: #DDD;\n",
              "  }\n",
              "\n",
              "  [theme=dark] .colab-df-quickchart {\n",
              "      --bg-color: #3B4455;\n",
              "      --fill-color: #D2E3FC;\n",
              "      --hover-bg-color: #434B5C;\n",
              "      --hover-fill-color: #FFFFFF;\n",
              "      --disabled-bg-color: #3B4455;\n",
              "      --disabled-fill-color: #666;\n",
              "  }\n",
              "\n",
              "  .colab-df-quickchart {\n",
              "    background-color: var(--bg-color);\n",
              "    border: none;\n",
              "    border-radius: 50%;\n",
              "    cursor: pointer;\n",
              "    display: none;\n",
              "    fill: var(--fill-color);\n",
              "    height: 32px;\n",
              "    padding: 0;\n",
              "    width: 32px;\n",
              "  }\n",
              "\n",
              "  .colab-df-quickchart:hover {\n",
              "    background-color: var(--hover-bg-color);\n",
              "    box-shadow: 0 1px 2px rgba(60, 64, 67, 0.3), 0 1px 3px 1px rgba(60, 64, 67, 0.15);\n",
              "    fill: var(--button-hover-fill-color);\n",
              "  }\n",
              "\n",
              "  .colab-df-quickchart-complete:disabled,\n",
              "  .colab-df-quickchart-complete:disabled:hover {\n",
              "    background-color: var(--disabled-bg-color);\n",
              "    fill: var(--disabled-fill-color);\n",
              "    box-shadow: none;\n",
              "  }\n",
              "\n",
              "  .colab-df-spinner {\n",
              "    border: 2px solid var(--fill-color);\n",
              "    border-color: transparent;\n",
              "    border-bottom-color: var(--fill-color);\n",
              "    animation:\n",
              "      spin 1s steps(1) infinite;\n",
              "  }\n",
              "\n",
              "  @keyframes spin {\n",
              "    0% {\n",
              "      border-color: transparent;\n",
              "      border-bottom-color: var(--fill-color);\n",
              "      border-left-color: var(--fill-color);\n",
              "    }\n",
              "    20% {\n",
              "      border-color: transparent;\n",
              "      border-left-color: var(--fill-color);\n",
              "      border-top-color: var(--fill-color);\n",
              "    }\n",
              "    30% {\n",
              "      border-color: transparent;\n",
              "      border-left-color: var(--fill-color);\n",
              "      border-top-color: var(--fill-color);\n",
              "      border-right-color: var(--fill-color);\n",
              "    }\n",
              "    40% {\n",
              "      border-color: transparent;\n",
              "      border-right-color: var(--fill-color);\n",
              "      border-top-color: var(--fill-color);\n",
              "    }\n",
              "    60% {\n",
              "      border-color: transparent;\n",
              "      border-right-color: var(--fill-color);\n",
              "    }\n",
              "    80% {\n",
              "      border-color: transparent;\n",
              "      border-right-color: var(--fill-color);\n",
              "      border-bottom-color: var(--fill-color);\n",
              "    }\n",
              "    90% {\n",
              "      border-color: transparent;\n",
              "      border-bottom-color: var(--fill-color);\n",
              "    }\n",
              "  }\n",
              "</style>\n",
              "\n",
              "  <script>\n",
              "    async function quickchart(key) {\n",
              "      const quickchartButtonEl =\n",
              "        document.querySelector('#' + key + ' button');\n",
              "      quickchartButtonEl.disabled = true;  // To prevent multiple clicks.\n",
              "      quickchartButtonEl.classList.add('colab-df-spinner');\n",
              "      try {\n",
              "        const charts = await google.colab.kernel.invokeFunction(\n",
              "            'suggestCharts', [key], {});\n",
              "      } catch (error) {\n",
              "        console.error('Error during call to suggestCharts:', error);\n",
              "      }\n",
              "      quickchartButtonEl.classList.remove('colab-df-spinner');\n",
              "      quickchartButtonEl.classList.add('colab-df-quickchart-complete');\n",
              "    }\n",
              "    (() => {\n",
              "      let quickchartButtonEl =\n",
              "        document.querySelector('#df-f56288fe-3e44-4e46-a2d5-0efe69e5d62d button');\n",
              "      quickchartButtonEl.style.display =\n",
              "        google.colab.kernel.accessAllowed ? 'block' : 'none';\n",
              "    })();\n",
              "  </script>\n",
              "</div>\n",
              "\n",
              "    </div>\n",
              "  </div>\n"
            ],
            "application/vnd.google.colaboratory.intrinsic+json": {
              "type": "dataframe",
              "variable_name": "ds_train",
              "summary": "{\n  \"name\": \"ds_train\",\n  \"rows\": 1000,\n  \"fields\": [\n    {\n      \"column\": \"text\",\n      \"properties\": {\n        \"dtype\": \"string\",\n        \"num_unique_values\": 1000,\n        \"samples\": [\n          \"Hitokiri (which translates roughly as \\\"assassination\\\"), a/k/a \\\"Tenchu\\\" which translates roughly as \\\"divine punishment\\\") showcases Hideo Gosha at the top of his form. Do NOT miss this one, or Gosha's other classic, Goyokin! Hitokiri is not only one of Gosha's best films, it's one of the best \\\"samurai/chambara\\\" films ever made, and perhaps one of the best Japanese films ever exported.<br /><br />Be warned, all of the intricate plot details in Hitokiri can be a little hard to follow for those unfamiliar with 19th century Japanese history. Even so, the underlying human drama is obvious and open to all viewers. As per the norm for Gosha, Hitokiri provides yet another variation on his traditional theme of \\\"loyalty to one's lord\\\" vs. \\\"doing the right thing\\\". However, Gosha develops his favorite theme with such sophistication, that it's really _the_ movie to see (along with Goyokin, of course).<br /><br />I suppose it breaks down like this: If you want a simpler, more action-oriented tale, you might want to see Goyokin. However, if you want a more thoughtful, multilayered (albeit grim) drama, see this one.<br /><br />(OK, OK, essentially, the historical backdrop is a massive power grap between many different samurai clans who are either (1) working to reform, yet retain, the Tokugawa Shogunate, and (2) those who are trying to install the Emperor Meiji as the supreme ruler of Japan. Of course, those clans working \\\"for\\\" Emperor Meiji were often less interested in \\\"reforming\\\" Japan than in ensuring their own clan more power in the \\\"new world order\\\". Ironically, the entire feudal system was officially abolished as one of the first reforms of the Meiji government. It's ironic twists like this -- Gosha's big on irony -- that make the entire plot all the more bittersweet.)<br /><br />What distinguishes \\\"Hitokiri\\\" from Gosha's other movies is Gosha's mature sense of cinematography. Every shot is thoughtfully composed, and (much like Kubrick's Barry Lyndon) each frame of the movie could hold its own as a still composition. Of course, this is typical Gosha. Hitokiri really stands out with stunning backdrops, including(as with Goyokin) many riveting seascapes. Just watch the opening sequence, and you're hooked! Make no mistake, this is no English period piece: Hitokiri is extremely violent (don't say you weren't warned).<br /><br />What else, other than cool camera work, makes Hitokiri stand out? The performances seem (to me) a bit more subtle in this one. Katsu Shintaro (of Zatoichi/Hanzo the Razor fame) turns in a star performance as the conflicted protagonist/antihero, Okada Izo. Katsu manages to instill humanity to a character that seems almost more wild animal than villain. Throughout the movie, you're never quite sure if you're engaged or revolted by Okada's character. At the same time, Katsu's portrayal of Okada's ravenous hunger for respect, and his later pathetic attempts at redemption, seem so human that you can't help but feel empathy/sympathy. Of course, after seeing Nakadai Tatsuya play the tortured hero in \\\"Goyokin\\\", it's great to see him play such a ruthless villain in \\\"Hitokiri\\\". He's just perfect, there's nothing more to say!<br /><br />As a final note, perhaps more interesting to buffs than to casual fans, don't miss the last screen appearance of Mishima Yukio (yes, the closeted gay right-wing ultranationalist novelist who committed suicide by seppuku before the crowd of jeering Japanese military personnel he \\\"kidnapped\\\" in 1970, and had a movie on his life and work made by Paul Schrader), who actually does a pretty solid job of portraying the honorable (for an assassin) Shinbei Tanaka.\",\n          \"This one grew on me. I love the R.D. Burman music and in spite of the cruder elements of the story I found much to be moved by as I kept re-watching the movie. The brother-sister plot line is powerful, I thought; there's also more probably obligatory stuff, like bar fights, a loony crime story, etc. that are just distracting. (Though not unfunny from a certain point of view.) Also the English translation is definitely by someone for whom it was a bit of a stretch, and as loony as it is I am grateful to him for doing it.<br /><br />Like many of the Bollywood movies I've seen, this one is melodramatic and opera-like, including here notably a song sung first by a little boy to cheer up his abused and unhappy sister, and then the same song sung 12 or so years later by the man who has travelled to Kathmandu seeking to re-connect with this girl, grown up and troubled (she had been told her brother and mother were dead), numbing her pain with drugs.<br /><br />A super thing about this 1971 movie is that it is about the hippie movement, which brought hordes of seekers to India, from an Indian point of view, that sees them as people driven to India by a spiritual hunger aroused by the failings of their own societies, but nonetheless, in India, living only for the pleasures of the moment. The hippie singing-dancing-drugging scenes are truly wonderful, and accurate in their tone (I'm old enough to remember), and I feel pretty sure that the masses of young white zoned-out kids are actual hippie extras, as I remember hearing about kids on the caravan to the East getting this kind of work in Bollywood.<br /><br />(It is not about the actual Hare Krishna movement, though the movie hippies sing a Krishna/Rama chant, as do a group of actual Indian devotees, unrelated to the hippies, in the opening scene of the movie.)<br /><br />~Virginia\",\n          \"Nacho Vigalondo is very famous in Spain. He is a kind of bad showman who can make you feel sick... Very embarrassing. Nacho had made some commercials in TV, I remember one in which Nacho was looking for Paul Mc Carney around Madrid (the commercial was about a Mc Carney CD collection). <br /><br />This little movie is like a Nacho's commercial: bad storyline, bad directing, and awful performances. I can't believe that a disgusting movie like this was in The Kodak Theater. Poor Oscar...<br /><br />Nacho could made this movie because of his wife, the producer of this 7:35, a woman very well connected with Spanish TV business men.\"\n        ],\n        \"semantic_type\": \"\",\n        \"description\": \"\"\n      }\n    },\n    {\n      \"column\": \"label\",\n      \"properties\": {\n        \"dtype\": \"number\",\n        \"std\": 0,\n        \"min\": 0,\n        \"max\": 1,\n        \"num_unique_values\": 2,\n        \"samples\": [\n          0,\n          1\n        ],\n        \"semantic_type\": \"\",\n        \"description\": \"\"\n      }\n    },\n    {\n      \"column\": \"text_no_punct\",\n      \"properties\": {\n        \"dtype\": \"string\",\n        \"num_unique_values\": 1000,\n        \"samples\": [\n          \"Hitokiri which translates roughly as assassination aka Tenchu which translates roughly as divine punishment showcases Hideo Gosha at the top of his form Do NOT miss this one or Goshas other classic Goyokin Hitokiri is not only one of Goshas best films its one of the best samuraichambara films ever made and perhaps one of the best Japanese films ever exportedbr br Be warned all of the intricate plot details in Hitokiri can be a little hard to follow for those unfamiliar with 19th century Japanese history Even so the underlying human drama is obvious and open to all viewers As per the norm for Gosha Hitokiri provides yet another variation on his traditional theme of loyalty to ones lord vs doing the right thing However Gosha develops his favorite theme with such sophistication that its really the movie to see along with Goyokin of coursebr br I suppose it breaks down like this If you want a simpler more actionoriented tale you might want to see Goyokin However if you want a more thoughtful multilayered albeit grim drama see this onebr br OK OK essentially the historical backdrop is a massive power grap between many different samurai clans who are either 1 working to reform yet retain the Tokugawa Shogunate and 2 those who are trying to install the Emperor Meiji as the supreme ruler of Japan Of course those clans working for Emperor Meiji were often less interested in reforming Japan than in ensuring their own clan more power in the new world order Ironically the entire feudal system was officially abolished as one of the first reforms of the Meiji government Its ironic twists like this  Goshas big on irony  that make the entire plot all the more bittersweetbr br What distinguishes Hitokiri from Goshas other movies is Goshas mature sense of cinematography Every shot is thoughtfully composed and much like Kubricks Barry Lyndon each frame of the movie could hold its own as a still composition Of course this is typical Gosha Hitokiri really stands out with stunning backdrops includingas with Goyokin many riveting seascapes Just watch the opening sequence and youre hooked Make no mistake this is no English period piece Hitokiri is extremely violent dont say you werent warnedbr br What else other than cool camera work makes Hitokiri stand out The performances seem to me a bit more subtle in this one Katsu Shintaro of ZatoichiHanzo the Razor fame turns in a star performance as the conflicted protagonistantihero Okada Izo Katsu manages to instill humanity to a character that seems almost more wild animal than villain Throughout the movie youre never quite sure if youre engaged or revolted by Okadas character At the same time Katsus portrayal of Okadas ravenous hunger for respect and his later pathetic attempts at redemption seem so human that you cant help but feel empathysympathy Of course after seeing Nakadai Tatsuya play the tortured hero in Goyokin its great to see him play such a ruthless villain in Hitokiri Hes just perfect theres nothing more to saybr br As a final note perhaps more interesting to buffs than to casual fans dont miss the last screen appearance of Mishima Yukio yes the closeted gay rightwing ultranationalist novelist who committed suicide by seppuku before the crowd of jeering Japanese military personnel he kidnapped in 1970 and had a movie on his life and work made by Paul Schrader who actually does a pretty solid job of portraying the honorable for an assassin Shinbei Tanaka\",\n          \"This one grew on me I love the RD Burman music and in spite of the cruder elements of the story I found much to be moved by as I kept rewatching the movie The brothersister plot line is powerful I thought theres also more probably obligatory stuff like bar fights a loony crime story etc that are just distracting Though not unfunny from a certain point of view Also the English translation is definitely by someone for whom it was a bit of a stretch and as loony as it is I am grateful to him for doing itbr br Like many of the Bollywood movies Ive seen this one is melodramatic and operalike including here notably a song sung first by a little boy to cheer up his abused and unhappy sister and then the same song sung 12 or so years later by the man who has travelled to Kathmandu seeking to reconnect with this girl grown up and troubled she had been told her brother and mother were dead numbing her pain with drugsbr br A super thing about this 1971 movie is that it is about the hippie movement which brought hordes of seekers to India from an Indian point of view that sees them as people driven to India by a spiritual hunger aroused by the failings of their own societies but nonetheless in India living only for the pleasures of the moment The hippie singingdancingdrugging scenes are truly wonderful and accurate in their tone Im old enough to remember and I feel pretty sure that the masses of young white zonedout kids are actual hippie extras as I remember hearing about kids on the caravan to the East getting this kind of work in Bollywoodbr br It is not about the actual Hare Krishna movement though the movie hippies sing a KrishnaRama chant as do a group of actual Indian devotees unrelated to the hippies in the opening scene of the moviebr br Virginia\"\n        ],\n        \"semantic_type\": \"\",\n        \"description\": \"\"\n      }\n    },\n    {\n      \"column\": \"tokens\",\n      \"properties\": {\n        \"dtype\": \"object\",\n        \"semantic_type\": \"\",\n        \"description\": \"\"\n      }\n    },\n    {\n      \"column\": \"tokens_nostop\",\n      \"properties\": {\n        \"dtype\": \"object\",\n        \"semantic_type\": \"\",\n        \"description\": \"\"\n      }\n    }\n  ]\n}"
            }
          },
          "metadata": {},
          "execution_count": 24
        }
      ],
      "source": [
        "ds_train.head()"
      ]
    },
    {
      "cell_type": "code",
      "execution_count": null,
      "metadata": {
        "id": "HNmmZE8aKZym"
      },
      "outputs": [],
      "source": [
        "# for the test\n",
        "ds_test['tokens_nostop'] = ds_test['tokens'].apply(lambda x: remove_stopwords(x))"
      ]
    },
    {
      "cell_type": "markdown",
      "metadata": {
        "id": "odhaxzHrOjAT"
      },
      "source": [
        "# Document Representation"
      ]
    },
    {
      "cell_type": "code",
      "execution_count": null,
      "metadata": {
        "id": "hw0KnZPBOpZJ"
      },
      "outputs": [],
      "source": [
        "import string\n",
        "import nltk\n",
        "from nltk.corpus import stopwords\n",
        "from sklearn.feature_extraction.text import CountVectorizer, TfidfVectorizer\n",
        "from datasets import load_dataset"
      ]
    },
    {
      "cell_type": "code",
      "execution_count": null,
      "metadata": {
        "id": "j0ARjimjUmBs"
      },
      "outputs": [],
      "source": [
        "# for train data\n",
        "ds_train['tokens_nostop_string'] = ds_train['tokens_nostop'].astype(str)"
      ]
    },
    {
      "cell_type": "code",
      "execution_count": null,
      "metadata": {
        "id": "Hfb9vWo8yEF3"
      },
      "outputs": [],
      "source": [
        "# for test data\n",
        "ds_test['tokens_nostop_string'] = ds_test['tokens_nostop'].astype(str)"
      ]
    },
    {
      "cell_type": "code",
      "execution_count": null,
      "metadata": {
        "id": "jeCkdEV8OiDk"
      },
      "outputs": [],
      "source": [
        "# 1. Bag of Words (BoW)\n",
        "vectorizer = CountVectorizer(max_features=5000)\n",
        "ds_train_bow = vectorizer.fit_transform(ds_train['tokens_nostop_string'])\n",
        "ds_test_bow = vectorizer.transform(ds_test['tokens_nostop_string'])"
      ]
    },
    {
      "cell_type": "code",
      "execution_count": null,
      "metadata": {
        "colab": {
          "base_uri": "https://localhost:8080/"
        },
        "id": "q-fjs7YqeoQ7",
        "outputId": "1454e7bb-651c-451e-c308-8fbe43ab53cc"
      },
      "outputs": [
        {
          "output_type": "execute_result",
          "data": {
            "text/plain": [
              "<Compressed Sparse Row sparse matrix of dtype 'int64'\n",
              "\twith 80257 stored elements and shape (1000, 5000)>"
            ]
          },
          "metadata": {},
          "execution_count": 30
        }
      ],
      "source": [
        "ds_train_bow"
      ]
    },
    {
      "cell_type": "markdown",
      "metadata": {
        "id": "EePM68HcmiEy"
      },
      "source": [
        "# Modelling"
      ]
    },
    {
      "cell_type": "code",
      "execution_count": null,
      "metadata": {
        "colab": {
          "base_uri": "https://localhost:8080/"
        },
        "id": "9ShFGkxLJZM5",
        "outputId": "4a6c3924-cdd6-4a8b-fe34-c2ea18024823"
      },
      "outputs": [
        {
          "output_type": "stream",
          "name": "stdout",
          "text": [
            "Accuracy: 0.775\n",
            "Model Accuracy: 0.7750\n",
            "Classification Report:\n",
            "               precision    recall  f1-score   support\n",
            "\n",
            "           0       0.79      0.77      0.78       512\n",
            "           1       0.76      0.78      0.77       488\n",
            "\n",
            "    accuracy                           0.78      1000\n",
            "   macro avg       0.77      0.78      0.77      1000\n",
            "weighted avg       0.78      0.78      0.78      1000\n",
            "\n"
          ]
        }
      ],
      "source": [
        "# import the necessary libraries, split the data into training and testing and fit the model\n",
        "from sklearn.ensemble import RandomForestClassifier\n",
        "from sklearn.metrics import accuracy_score, classification_report\n",
        "\n",
        "\n",
        "# Split data into train and test sets\n",
        "X_train = ds_train_bow\n",
        "X_test = ds_test_bow\n",
        "y_train = ds_train['label']\n",
        "y_test = ds_test['label']\n",
        "\n",
        "# Train a classifier\n",
        "clf = RandomForestClassifier()\n",
        "clf.fit(X_train, y_train)\n",
        "\n",
        "y_pred = clf.predict(X_test)\n",
        "\n",
        "# Evaluate the classifier\n",
        "accuracy_1 = clf.score(X_test, y_test)\n",
        "print(\"Accuracy:\", accuracy_1)\n",
        "\n",
        "# Evaluate model performance\n",
        "accuracy_2 = accuracy_score(y_test, y_pred)\n",
        "print(f\"Model Accuracy: {accuracy_2:.4f}\")\n",
        "print(\"Classification Report:\\n\", classification_report(y_test, y_pred))"
      ]
    }
  ],
  "metadata": {
    "colab": {
      "provenance": [],
      "include_colab_link": true
    },
    "kernelspec": {
      "display_name": "Python 3",
      "language": "python",
      "name": "python3"
    },
    "language_info": {
      "codemirror_mode": {
        "name": "ipython",
        "version": 3
      },
      "file_extension": ".py",
      "mimetype": "text/x-python",
      "name": "python",
      "nbconvert_exporter": "python",
      "pygments_lexer": "ipython3",
      "version": "3.10.7"
    }
  },
  "nbformat": 4,
  "nbformat_minor": 0
}